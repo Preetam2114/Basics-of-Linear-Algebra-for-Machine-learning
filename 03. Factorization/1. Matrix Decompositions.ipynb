{
 "cells": [
  {
   "cell_type": "markdown",
   "id": "champion-database",
   "metadata": {},
   "source": [
    "# Matrix Decompositions\n",
    "\n",
    "Many complex matrix operations cannot be solved efficiently or with stability using the limited precision of computers. Matrix decompositions are methods that reduce a matrix into constituent parts that make it easier to calculate more complex matrix operations. Matrix decomposition methods, also called matrix factorization methods, are a foundation of linear algebra in computers, even for basic operations such as solving systems of linear equations, calculating the inverse, and calculating the determinant of a matrix.\n",
    "\n",
    "## What is a Matrix Decomposition\n",
    "\n",
    "A matrix decomposition is a way of reducing a matrix into its constituent parts. It is an approach that can simplify more complex matrix operations that can be performed on the decomposed matrix rather than on the original matrix itself. A common analogy for matrix decomposition is the factoring of numbers, such as the factoring of 10 into 2 x 5. For this reason, matrix decomposition is also called matrix factorization. Like factoring real values, there are many ways to decompose a matrix, hence there are a range of different matrix decomposition techniques. Two simple and widely used matrix decomposition methods are the LU matrix decomposition and the QR matrix decomposition. Next, we will take a closer look at each of these methods."
   ]
  },
  {
   "cell_type": "markdown",
   "id": "authentic-kitchen",
   "metadata": {},
   "source": [
    "## LU Decomposition\n",
    "\n",
    "The LU decomposition is for square matrices and decomposes a matrix into L and U components.\n",
    "\n",
    "$$A = L\\cdot U$$\n",
    "\n",
    "Where A is the square matrix that we wish to decompose, L is the lower triangle matrix and U is the upper triangle matrix.\n",
    "\n",
    "The LU decomposition is found using an iterative numerical process and can fail for those matrices that cannot be decomposed or decomposed easily. A variation of this decomposition that is numerically more stable to solve in practice is called the LUP decomposition, or the LU decomposition with partial pivoting.\n",
    "\n",
    "$$A = L\\cdot U\\cdot P$$\n",
    "\n",
    "The rows of the parent matrix are re-ordered to simplify the decomposition process and the additional P matrix specifies a way to permute the result or return the result to the original order. There are also other variations of the LU. The LU decomposition is often used to simplify the solving of systems of linear equations, such as finding the coefficients in a linear regression, as well as in calculating the determinant and inverse of a matrix.\n",
    "\n",
    "The LU decomposition can be implemented in Python with the **lu()** function. More specifically, this function calculates an LPU decomposition. The example below first defines a 3 x 3 square matrix. The LU decomposition is calculated, then the original matrix is reconstructed from the components."
   ]
  },
  {
   "cell_type": "code",
   "execution_count": 1,
   "id": "thirty-proof",
   "metadata": {},
   "outputs": [
    {
     "name": "stdout",
     "output_type": "stream",
     "text": [
      "[[1 2 3]\n",
      " [4 5 6]\n",
      " [7 8 9]]\n",
      "[[0. 1. 0.]\n",
      " [0. 0. 1.]\n",
      " [1. 0. 0.]]\n",
      "[[1.         0.         0.        ]\n",
      " [0.14285714 1.         0.        ]\n",
      " [0.57142857 0.5        1.        ]]\n",
      "[[7.         8.         9.        ]\n",
      " [0.         0.85714286 1.71428571]\n",
      " [0.         0.         0.        ]]\n",
      "[[1. 2. 3.]\n",
      " [4. 5. 6.]\n",
      " [7. 8. 9.]]\n"
     ]
    }
   ],
   "source": [
    "# LU decomposition\n",
    "from numpy import array\n",
    "from scipy.linalg import lu\n",
    "\n",
    "# define a square matrix\n",
    "A = array([\n",
    "[1, 2, 3],\n",
    "[4, 5, 6],\n",
    "[7, 8, 9]])\n",
    "print(A)\n",
    "\n",
    "# factorize\n",
    "P, L, U = lu(A)\n",
    "print(P)\n",
    "print(L)\n",
    "print(U)\n",
    "\n",
    "# reconstruct\n",
    "B = P.dot(L).dot(U)\n",
    "print(B)"
   ]
  },
  {
   "cell_type": "markdown",
   "id": "preliminary-duplicate",
   "metadata": {},
   "source": [
    "## QR Decomposition\n",
    "\n",
    "The QR decomposition is for n x m matrices (not limited to square matrices) and decomposes a matrix into Q and R components.\n",
    "\n",
    "$$A = Q \\cdot R$$\n",
    "\n",
    "Where A is the matrix that we wish to decompose, Q a matrix with the size m x m, and R is an upper triangle matrix with the size m x n. The QR decomposition is found using an iterative numerical method that can fail for those matrices that cannot be decomposed, or decomposed easily. Like the LU decomposition, the QR decomposition is often used to solve systems of linear equations, although is not limited to square matrices.\n",
    "\n",
    "The QR decomposition can be implemented in NumPy using the **qr()** function. By default, the function returns the Q and R matrices with smaller or reduced dimensions that is more economical. We can change this to return the expected sizes of *m x m* for Q and *m x n* for R by specifying the mode argument as 'complete', although this is not required for most applications. The example below defines a 3 x 2 matrix, calculates the QR decomposition, then reconstructs the original matrix from the decomposed elements."
   ]
  },
  {
   "cell_type": "code",
   "execution_count": 2,
   "id": "minute-shuttle",
   "metadata": {},
   "outputs": [
    {
     "name": "stdout",
     "output_type": "stream",
     "text": [
      "[[1 2]\n",
      " [3 4]\n",
      " [5 6]]\n",
      "[[-0.16903085  0.89708523  0.40824829]\n",
      " [-0.50709255  0.27602622 -0.81649658]\n",
      " [-0.84515425 -0.34503278  0.40824829]]\n",
      "[[-5.91607978 -7.43735744]\n",
      " [ 0.          0.82807867]\n",
      " [ 0.          0.        ]]\n",
      "[[1. 2.]\n",
      " [3. 4.]\n",
      " [5. 6.]]\n"
     ]
    }
   ],
   "source": [
    "# QR decomposition\n",
    "from numpy import array\n",
    "from numpy.linalg import qr\n",
    "\n",
    "# define rectangular matrix\n",
    "A = array([\n",
    "[1, 2],\n",
    "[3, 4],\n",
    "[5, 6]])\n",
    "print(A)\n",
    "\n",
    "# factorize\n",
    "Q, R = qr(A, 'complete')\n",
    "print(Q)\n",
    "print(R)\n",
    "\n",
    "# reconstruct\n",
    "B = Q.dot(R)\n",
    "print(B)"
   ]
  },
  {
   "cell_type": "markdown",
   "id": "institutional-responsibility",
   "metadata": {},
   "source": [
    "## Cholesky Decomposition\n",
    "\n",
    "The Cholesky decomposition is for square symmetric matrices where all values are greater than zero, so-called positive definite matrices. For our interests in machine learning, we will focus on the Cholesky decomposition for real-valued matrices and ignore the cases when working with complex numbers. The decomposition is defined as follows:\n",
    "\n",
    "$$A = L\\cdot L^T$$\n",
    "\n",
    "Where A is the matrix being decomposed, L is the lower triangular matrix and $L^T$ is the transpose of L. The decompose can also be written as the product of the upper triangular matrix, for example:\n",
    "\n",
    "$$A = U^T\\cdot U$$\n",
    "\n",
    "Where U is the upper triangular matrix. The Cholesky decomposition is used for solving linear least squares for linear regression, as well as simulation and optimization methods. When decomposing symmetric matrices, the Cholesky decomposition is nearly twice as efficient as the LU decomposition and should be preferred in these cases.\n",
    "\n",
    "The Cholesky decomposition can be implemented in NumPy by calling the **cholesky()** function. The function only returns L as we can easily access the L transpose as needed. The example below defines a 3 x 3 symmetric and positive definite matrix and calculates the Cholesky decomposition, then the original matrix is reconstructed."
   ]
  },
  {
   "cell_type": "code",
   "execution_count": 3,
   "id": "employed-exhaust",
   "metadata": {},
   "outputs": [
    {
     "name": "stdout",
     "output_type": "stream",
     "text": [
      "[[2 1 1]\n",
      " [1 2 1]\n",
      " [1 1 2]]\n",
      "[[1.41421356 0.         0.        ]\n",
      " [0.70710678 1.22474487 0.        ]\n",
      " [0.70710678 0.40824829 1.15470054]]\n",
      "[[2. 1. 1.]\n",
      " [1. 2. 1.]\n",
      " [1. 1. 2.]]\n"
     ]
    }
   ],
   "source": [
    "# Cholesky decomposition\n",
    "from numpy import array\n",
    "from numpy.linalg import cholesky\n",
    "\n",
    "# define symmetrical matrix\n",
    "A = array([\n",
    "[2, 1, 1],\n",
    "[1, 2, 1],\n",
    "[1, 1, 2]])\n",
    "print(A)\n",
    "\n",
    "# factorize\n",
    "L = cholesky(A)\n",
    "print(L)\n",
    "\n",
    "# reconstruct\n",
    "B = L.dot(L.T)\n",
    "print(B)"
   ]
  },
  {
   "cell_type": "code",
   "execution_count": null,
   "id": "developing-transcript",
   "metadata": {},
   "outputs": [],
   "source": []
  }
 ],
 "metadata": {
  "kernelspec": {
   "display_name": "Python 3",
   "language": "python",
   "name": "python3"
  },
  "language_info": {
   "codemirror_mode": {
    "name": "ipython",
    "version": 3
   },
   "file_extension": ".py",
   "mimetype": "text/x-python",
   "name": "python",
   "nbconvert_exporter": "python",
   "pygments_lexer": "ipython3",
   "version": "3.9.1"
  }
 },
 "nbformat": 4,
 "nbformat_minor": 5
}
