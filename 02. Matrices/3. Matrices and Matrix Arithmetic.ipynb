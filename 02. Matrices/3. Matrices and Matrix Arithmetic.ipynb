{
 "cells": [
  {
   "cell_type": "markdown",
   "id": "ae8195a2",
   "metadata": {},
   "source": [
    "# Matrices and Matrix Arithmetic\n",
    "\n",
    "Matrices are a foundational element of linear algebra. Matrices are used throughout the field of machine learning in the description of algorithms and processes such as the input data variable (X) when training an algorithm."
   ]
  },
  {
   "cell_type": "markdown",
   "id": "86e0e187",
   "metadata": {},
   "source": [
    "## Defining a Matrix\n",
    "\n",
    "We can represent a matrix in Python using a two-dimensional NumPy array. A NumPy array can be constructed given a list of lists. For example, below is a 2 row, 3 column matrix."
   ]
  },
  {
   "cell_type": "code",
   "execution_count": 1,
   "id": "a4047cc8",
   "metadata": {},
   "outputs": [
    {
     "name": "stdout",
     "output_type": "stream",
     "text": [
      "[[1 2 3]\n",
      " [4 5 6]]\n"
     ]
    }
   ],
   "source": [
    "# create matrix\n",
    "from numpy import array\n",
    "A = array([[1, 2, 3], [4, 5, 6]])\n",
    "print(A)"
   ]
  },
  {
   "cell_type": "markdown",
   "id": "23491d8f",
   "metadata": {},
   "source": [
    "## Matrix Arithmetic\n",
    "\n",
    "In simple matrix-matrix arithmetic, all operations are performed element-wise between two matrices of equal size to result in a new matrix with the same size.\n",
    "\n",
    "Two matrices with the same dimensions can be added together to create a new third matrix.\n",
    "\n",
    "$C = A + B$\n",
    "\n",
    "The scalar elements in the resulting matrix are calculated as the addition of the elements in each of the matrices being added.\n",
    "\n",
    "\n",
    "$\n",
    "\\begin{aligned} \n",
    "C =\\begin{pmatrix}a_{11}+b_{11}\\; a_{12}+b_{12}\\\\a_{21}+b_{21}\\; a_{22}+b_{22}\\\\a_{31}+b_{31}\\; a_{32}+b_{32}\\end{pmatrix}  \n",
    "\\end{aligned}\n",
    "$\n"
   ]
  },
  {
   "cell_type": "code",
   "execution_count": 2,
   "id": "68ab0334",
   "metadata": {},
   "outputs": [
    {
     "name": "stdout",
     "output_type": "stream",
     "text": [
      "[[1 2 3]\n",
      " [4 5 6]]\n",
      "[[1 2 3]\n",
      " [4 5 6]]\n",
      "[[ 2  4  6]\n",
      " [ 8 10 12]]\n"
     ]
    }
   ],
   "source": [
    "# matrix addition\n",
    "from numpy import array\n",
    "\n",
    "# define first matrix\n",
    "A = array([\n",
    "[1, 2, 3],\n",
    "[4, 5, 6]])\n",
    "print(A)\n",
    "\n",
    "# define second matrix\n",
    "B = array([\n",
    "[1, 2, 3],\n",
    "[4, 5, 6]])\n",
    "print(B)\n",
    "\n",
    "# add matrices\n",
    "C = A + B\n",
    "print(C)"
   ]
  },
  {
   "cell_type": "markdown",
   "id": "88bffd76",
   "metadata": {},
   "source": [
    "## Matrix Subtraction\n",
    "\n",
    "Similarly, one matrix can be subtracted from another matrix with the same dimensions.\n",
    "\n",
    "$C = A - B$\n",
    "\n",
    "The scalar elements in the resulting matrix are calculated as the subtraction of the elements in each of the matrices.\n",
    "\n",
    "$\n",
    "\\begin{aligned} \n",
    "C =\\begin{pmatrix}a_{1,1}-b_{1,1}\\; a_{1,2}-b_{1,2}\\\\a_{2,1}-b_{2,1}\\; a_{2,2}-b_{2,2}\\\\a_{3,1}-b_{3,1}\\; a_{3,2}-b_{3,2}\\end{pmatrix}  \n",
    "\\end{aligned}\n",
    "$"
   ]
  },
  {
   "cell_type": "code",
   "execution_count": 3,
   "id": "08214410",
   "metadata": {},
   "outputs": [
    {
     "name": "stdout",
     "output_type": "stream",
     "text": [
      "[[1 2 3]\n",
      " [4 5 6]]\n",
      "[[0.5 0.5 0.5]\n",
      " [0.5 0.5 0.5]]\n",
      "[[0.5 1.5 2.5]\n",
      " [3.5 4.5 5.5]]\n"
     ]
    }
   ],
   "source": [
    "# matrix subtraction\n",
    "from numpy import array\n",
    "\n",
    "# define first matrix\n",
    "A = array([\n",
    "[1, 2, 3],\n",
    "[4, 5, 6]])\n",
    "print(A)\n",
    "\n",
    "# define second matrix\n",
    "B = array([\n",
    "[0.5, 0.5, 0.5],\n",
    "[0.5, 0.5, 0.5]])\n",
    "print(B)\n",
    "\n",
    "# subtract matrices\n",
    "C = A - B\n",
    "print(C)"
   ]
  },
  {
   "cell_type": "markdown",
   "id": "8a14db7e",
   "metadata": {},
   "source": [
    "## Matrix Multiplication (Hadamard Product)\n",
    "\n",
    "Two matrices with the same size can be multiplied together, and this is often called element-wise matrix multiplication or the Hadamard product. It is not the typical operation meant when referring to matrix multiplication, therefore a different operator is often used, such as a circle o.\n",
    "\n",
    "$C = A o B$\n",
    "\n",
    "As with element-wise subtraction and addition, element-wise multiplication involves the multiplication of elements from each parent matrix to calculate the values in the new matrix.\n",
    "\n",
    "$\n",
    "\\begin{aligned} \n",
    "C =\\begin{pmatrix}a_{1,1}\\,x\\,b_{1,1}\\; a_{1,2}\\,x\\,b_{1,2}\\\\a_{2,1}\\,x\\,b_{2,1}\\; a_{2,2}\\,x\\,b_{2,2}\\\\a_{3,1}\\,x\\,b_{3,1}\\; a_{3,2}\\,x\\,b_{3,2}\\end{pmatrix}  \n",
    "\\end{aligned}\n",
    "$\n",
    "\n",
    "We can implement this in Python using the star operator directly on the two NumPy arrays."
   ]
  },
  {
   "cell_type": "code",
   "execution_count": 4,
   "id": "fa75e587",
   "metadata": {},
   "outputs": [
    {
     "name": "stdout",
     "output_type": "stream",
     "text": [
      "[[1 2 3]\n",
      " [4 5 6]]\n",
      "[[1 2 3]\n",
      " [4 5 6]]\n",
      "[[ 1  4  9]\n",
      " [16 25 36]]\n"
     ]
    }
   ],
   "source": [
    "# matrix Hadamard product\n",
    "from numpy import array\n",
    "\n",
    "# define first matrix\n",
    "A = array([\n",
    "[1, 2, 3],\n",
    "[4, 5, 6]])\n",
    "print(A)\n",
    "\n",
    "# define second matrix\n",
    "B = array([\n",
    "[1, 2, 3],\n",
    "[4, 5, 6]])\n",
    "print(B)\n",
    "\n",
    "# multiply matrices\n",
    "C = A * B\n",
    "print(C)"
   ]
  },
  {
   "cell_type": "markdown",
   "id": "4d761878",
   "metadata": {},
   "source": [
    "## Matrix Division\n",
    "\n",
    "One matrix can be divided by another matrix with the same dimensions.\n",
    "\n",
    "$ C=\\dfrac{A}{B}$\n",
    "\n",
    "The scalar elements in the resulting matrix are calculated as the division of the elements in each of the matrices.\n",
    "\n",
    "$\n",
    "\\begin{aligned} \n",
    "C =\\begin{pmatrix}\\dfrac{a_{1,1}}{b_{1,1}}\\; \\dfrac{a_{1,2}}{b_{1,2}}\\\\ \\dfrac{a_{2,1}}{b_{2,1}}\\; \\dfrac{a_{2,2}}{b_{2,2}}\\\\ \\dfrac{a_{3,1}}{b_{3,1}}\\; \\dfrac{a_{3,2}}{b_{3,2}}\\end{pmatrix} \n",
    "\\end{aligned}\n",
    "$\n",
    "\n",
    "We can implement this in Python using the division operator directly on the two NumPy arrays."
   ]
  },
  {
   "cell_type": "code",
   "execution_count": 5,
   "id": "9a708cdd",
   "metadata": {},
   "outputs": [
    {
     "name": "stdout",
     "output_type": "stream",
     "text": [
      "[[1 2 3]\n",
      " [4 5 6]]\n",
      "[[1 2 3]\n",
      " [4 5 6]]\n",
      "[[1. 1. 1.]\n",
      " [1. 1. 1.]]\n"
     ]
    }
   ],
   "source": [
    "# matrix division\n",
    "from numpy import array\n",
    "\n",
    "# define first matrix\n",
    "A = array([\n",
    "[1, 2, 3],\n",
    "[4, 5, 6]])\n",
    "print(A)\n",
    "\n",
    "# define second matrix\n",
    "B = array([\n",
    "[1, 2, 3],\n",
    "[4, 5, 6]])\n",
    "print(B)\n",
    "\n",
    "# divide matrices\n",
    "C = A / B\n",
    "print(C)"
   ]
  },
  {
   "cell_type": "markdown",
   "id": "93c07ff7",
   "metadata": {},
   "source": [
    "## Matrix-Matrix Multiplication\n",
    "\n",
    "Matrix multiplication, also called the matrix dot product is more complicated than the previous operations and involves a rule as not all matrices can be multiplied together.\n",
    "\n",
    "$C = A\\, . B$\n",
    "\n",
    "The rule for matrix multiplication is as follows:\n",
    "\n",
    "- The number of columns (n) in the first matrix (A) must equal the number of rows (m) in the second matrix (B).\n",
    "\n",
    "$C(m, k) = A(m, n)\\,. B(n, k)$\n",
    "\n",
    "This rule applies for a chain of matrix multiplications where the number of columns in one matrix in the chain must match the number of rows in the following matrix in the chain.\n",
    "\n",
    "$ \n",
    "\\begin{aligned} \n",
    "A = \\begin{pmatrix}  a_{1,1}\\; a_{1,2}\\\\ a_{2,1}\\; a_{2,2}\\\\ a_{3,1}\\; a_{3,2} \\end{pmatrix}  \n",
    "\\end{aligned}\n",
    "$\n",
    "\n",
    "\n",
    "$ \n",
    "\\begin{aligned} \n",
    "B = \\begin{pmatrix}  b_{1,1}\\; b_{1,2}\\\\ b_{2,1}\\; b_{2,2}\\end{pmatrix}  \n",
    "\\end{aligned}\n",
    "$\n",
    "\n",
    "$ \n",
    "\\begin{aligned} \n",
    "C = \\begin{pmatrix} \n",
    "a_{1,1}\\, x \\, b_{1,1}+ a_{1,2}\\, x \\, b_{2,1}\\; , \\;a_{1,1}\\, x \\, b_{1,2} + a_{1,2}\\, x \\, b_{2,2}\\\\\n",
    "a_{2,1}\\, x \\, b_{1,1}+ a_{2,2}\\, x \\, b_{2,1}\\; , \\;a_{2,1}\\, x \\, b_{1,2} + a_{2,2}\\, x \\, b_{2,2}\\\\\n",
    "a_{3,1}\\, x \\, b_{1,1}+ a_{3,2}\\, x \\, b_{2,1}\\; , \\;a_{3,1}\\, x \\, b_{1,2} + a_{3,2}\\, x \\, b_{2,2}\n",
    "\\end{pmatrix}  \n",
    "\\end{aligned}\n",
    "$ \n",
    "\n",
    "The matrix multiplication operation can be implemented in NumPy using the dot() function. It can also be calculated using the newer @ operator, since Python version 3.5. The example below demonstrates both methods."
   ]
  },
  {
   "cell_type": "code",
   "execution_count": 6,
   "id": "e6cd43c2",
   "metadata": {},
   "outputs": [
    {
     "name": "stdout",
     "output_type": "stream",
     "text": [
      "[[1 2]\n",
      " [3 4]\n",
      " [5 6]]\n",
      "[[1 2]\n",
      " [3 4]]\n",
      "[[ 7 10]\n",
      " [15 22]\n",
      " [23 34]]\n",
      "[[ 7 10]\n",
      " [15 22]\n",
      " [23 34]]\n"
     ]
    }
   ],
   "source": [
    "# matrix dot product\n",
    "from numpy import array\n",
    "\n",
    "# define first matrix\n",
    "A = array([\n",
    "[1, 2],\n",
    "[3, 4],\n",
    "[5, 6]])\n",
    "print(A)\n",
    "\n",
    "# define second matrix\n",
    "B = array([\n",
    "[1, 2],\n",
    "[3, 4]])\n",
    "print(B)\n",
    "\n",
    "# multiply matrices\n",
    "C = A.dot(B)\n",
    "print(C)\n",
    "\n",
    "# multiply matrices with @ operator\n",
    "D = A @ B\n",
    "print(D)"
   ]
  },
  {
   "cell_type": "markdown",
   "id": "da26c7b8",
   "metadata": {},
   "source": [
    "It's recommend using the dot() function for matrix multiplication for now given the newness of the @ operator."
   ]
  },
  {
   "cell_type": "markdown",
   "id": "1a2f67f4",
   "metadata": {},
   "source": [
    "## Matrix-Vector Multiplication\n",
    "\n",
    "A matrix and a vector can be multiplied together as long as the rule of matrix multiplication is observed. Specifically, that the number of columns in the matrix must equal the number of items in the vector. As with matrix multiplication, the operation can be written using the dot notation. Because the vector only has one column, the result is always a vector.\n",
    "\n",
    "$C = A\\,.v$\n",
    "\n",
    "The result is a vector with the same number of rows as the parent matrix.\n",
    "\n",
    "$ \n",
    "\\begin{aligned} \n",
    "A = \\begin{pmatrix}  a_{1,1}\\; a_{1,2}\\\\ a_{2,1}\\; a_{2,2}\\\\ a_{3,1}\\; a_{3,2} \\end{pmatrix}  \n",
    "\\end{aligned}\n",
    "$\n",
    "\n",
    "$\n",
    "\\begin{aligned}\n",
    "v = \\begin{pmatrix} v_{1}\\\\\n",
    "v_{2}\n",
    "\\end{pmatrix}\n",
    "\\end{aligned}\n",
    "$\n",
    "\n",
    "$ \n",
    "\\begin{aligned} \n",
    "C = \\begin{pmatrix} \n",
    "a_{1,1}\\, x \\, v_{1}+ a_{1,2}\\, x \\, v_{2}\\\\\n",
    "a_{2,1}\\, x \\, v_{1}+ a_{2,2}\\, x \\, v_{2}\\\\\n",
    "a_{3,1}\\, x \\, v_{1}+ a_{3,2}\\, x \\, v_{2}\n",
    "\\end{pmatrix}  \n",
    "\\end{aligned}\n",
    "$ \n",
    "\n",
    "The matrix-vector multiplication can be implemented in NumPy using the dot() function."
   ]
  },
  {
   "cell_type": "code",
   "execution_count": 7,
   "id": "9e0a703a",
   "metadata": {},
   "outputs": [
    {
     "name": "stdout",
     "output_type": "stream",
     "text": [
      "[[1 2]\n",
      " [3 4]\n",
      " [5 6]]\n",
      "[0.5 0.5]\n",
      "[1.5 3.5 5.5]\n"
     ]
    }
   ],
   "source": [
    "# matrix-vector multiplication\n",
    "from numpy import array\n",
    "\n",
    "# define matrix\n",
    "A = array([\n",
    "[1, 2],\n",
    "[3, 4],\n",
    "[5, 6]])\n",
    "print(A)\n",
    "\n",
    "# define vector\n",
    "B = array([0.5, 0.5])\n",
    "print(B)\n",
    "\n",
    "# multiply\n",
    "C = A.dot(B)\n",
    "print(C)"
   ]
  },
  {
   "cell_type": "markdown",
   "id": "c19172fb",
   "metadata": {},
   "source": [
    "## Matrix-Scalar Multiplication\n",
    "\n",
    "A matrix can be multiplied by a scalar. This can be represented using the dot notation between the matrix and the scalar.\n",
    "\n",
    "$C = A\\,. b$\n",
    "\n",
    "The result is a matrix with the same size as the parent matrix where each element of the matrix is multiplied by the scalar value.\n",
    "\n",
    "$ \n",
    "\\begin{aligned} \n",
    "A = \\begin{pmatrix}  a_{1,1}\\; a_{1,2}\\\\ a_{2,1}\\; a_{2,2}\\\\ a_{3,1}\\; a_{3,2} \\end{pmatrix}  \n",
    "\\end{aligned}\n",
    "$\n",
    "\n",
    "$ \n",
    "\\begin{aligned} \n",
    "C = \\begin{pmatrix} \n",
    "a_{1,1}\\, x \\, b+ a_{1,2}\\, x \\, b\\\\\n",
    "a_{2,1}\\, x \\, b+ a_{2,2}\\, x \\, b\\\\\n",
    "a_{3,1}\\, x \\, b+ a_{3,2}\\, x \\, b\n",
    "\\end{pmatrix}  \n",
    "\\end{aligned}\n",
    "$ \n",
    "\n",
    "This can be implemented directly in NumPy with the multiplication operator."
   ]
  },
  {
   "cell_type": "code",
   "execution_count": 8,
   "id": "29792c72",
   "metadata": {},
   "outputs": [
    {
     "name": "stdout",
     "output_type": "stream",
     "text": [
      "[[1 2]\n",
      " [3 4]\n",
      " [5 6]]\n",
      "0.5\n",
      "[[0.5 1. ]\n",
      " [1.5 2. ]\n",
      " [2.5 3. ]]\n"
     ]
    }
   ],
   "source": [
    "# matrix-scalar multiplication\n",
    "from numpy import array\n",
    "\n",
    "# define matrix\n",
    "A = array([[1, 2], [3, 4], [5, 6]])\n",
    "print(A)\n",
    "\n",
    "# define scalar\n",
    "b = 0.5\n",
    "print(b)\n",
    "\n",
    "# multiply\n",
    "C = A * b\n",
    "print(C)"
   ]
  },
  {
   "cell_type": "code",
   "execution_count": null,
   "id": "c62fc1d3",
   "metadata": {},
   "outputs": [],
   "source": []
  }
 ],
 "metadata": {
  "kernelspec": {
   "display_name": "Python 3 (ipykernel)",
   "language": "python",
   "name": "python3"
  },
  "language_info": {
   "codemirror_mode": {
    "name": "ipython",
    "version": 3
   },
   "file_extension": ".py",
   "mimetype": "text/x-python",
   "name": "python",
   "nbconvert_exporter": "python",
   "pygments_lexer": "ipython3",
   "version": "3.8.5"
  }
 },
 "nbformat": 4,
 "nbformat_minor": 5
}
