{
 "cells": [
  {
   "cell_type": "markdown",
   "id": "concerned-draft",
   "metadata": {},
   "source": [
    "# Vector Norms\n",
    "\n",
    "Calculating the length or magnitude of vectors is often required either directly as a regularization\n",
    "method in machine learning, or as part of broader vector or matrix operations."
   ]
  },
  {
   "cell_type": "markdown",
   "id": "gorgeous-migration",
   "metadata": {},
   "source": [
    "## Vector Norm\n",
    "\n",
    "Calculating the size or length of a vector is often required either directly or as part of a broader vector or vector-matrix operation. The length of the vector is referred to as the vector norm or the vector's magnitude.\n",
    "\n",
    "The length of the vector is always a positive number, except for a vector of all zero values. It is calculated using some measure that summarizes the distance of the vector from the origin of the vector space."
   ]
  },
  {
   "cell_type": "markdown",
   "id": "healthy-anderson",
   "metadata": {},
   "source": [
    "### Vector L<sup>1</sup> Norm\n",
    "\n",
    "The length of a vector can be calculated using the L<sup>1</sup> norm, where the 1 is a superscript of\n",
    "the L. The notation for the L1 norm of a vector is ||v||<sub>1</sub>, where 1 is a subscript. As such, this\n",
    "length is sometimes called the taxicab norm or the Manhattan norm.\n",
    "\n",
    "<center>L<sup>1</sup>(v) = ||v||<sub>1</sub></center>\n",
    "    \n",
    "The L<sup>1</sup> norm is calculated as the sum of the absolute vector values, where the absolute value\n",
    "of a scalar uses the notation |a<sub>j</sub>|. In effect, the norm is a calculation of the Manhattan distance\n",
    "from the origin of the vector space.\n",
    "\n",
    "<center>||v||<sub>1</sub> = |a<sub>1</sub>| + |a<sub>2</sub>| + |a<sub>3</sub>|</center>\n",
    "\n",
    "The L<sup>1</sup> norm of a vector can be calculated in NumPy using the norm() function with a parameter to specify the norm order, in this case 1."
   ]
  },
  {
   "cell_type": "code",
   "execution_count": 1,
   "id": "married-italy",
   "metadata": {},
   "outputs": [
    {
     "name": "stdout",
     "output_type": "stream",
     "text": [
      "[1 2 3]\n",
      "6.0\n"
     ]
    }
   ],
   "source": [
    "# vector L1 norm\n",
    "from numpy import array\n",
    "from numpy.linalg import norm\n",
    "\n",
    "# define vector\n",
    "a = array([1, 2, 3])\n",
    "print(a)\n",
    "\n",
    "# calculate norm\n",
    "l1 = norm(a, 1)\n",
    "print(l1)"
   ]
  },
  {
   "cell_type": "markdown",
   "id": "demanding-cylinder",
   "metadata": {},
   "source": [
    "The L<sup>1</sup> norm is often used when fitting machine learning algorithms as a regularization method, e.g. a method to keep the coeffients of the model small, and in turn, the model less complex."
   ]
  },
  {
   "cell_type": "markdown",
   "id": "cross-spice",
   "metadata": {},
   "source": [
    "### Vector L<sup>2</sup> Norm\n",
    "\n",
    "The length of a vector can be calculated using the L<sup>2</sup> norm, where the 2 is a superscript of the\n",
    "L. The notation for the L<sup>2</sup> norm of a vector is ||v||<sub>2</sub> where 2 is a subscript.\n",
    "\n",
    "<center>L<sup>2</sup>(v) = ||v||<sub>2</sub></center>\n",
    "\n",
    "The L<sup>2</sup> norm calculates the distance of the vector coordinate from the origin of the vector\n",
    "space. As such, it is also known as the Euclidean norm as it is calculated as the Euclidean\n",
    "distance from the origin. The result is a positive distance value. The L<sup>2</sup> norm is calculated as\n",
    "the square root of the sum of the squared vector values.\n",
    "\n",
    "<center>||v||<sub>2</sub> = $\\sqrt{a_1^2+a_2^2+a_3^2}$</center>\n",
    "\n",
    "The L2 norm of a vector can be calculated in NumPy using the norm() function with default parameters."
   ]
  },
  {
   "cell_type": "code",
   "execution_count": 2,
   "id": "combined-thesaurus",
   "metadata": {},
   "outputs": [
    {
     "name": "stdout",
     "output_type": "stream",
     "text": [
      "[1 2 3]\n",
      "3.7416573867739413\n"
     ]
    }
   ],
   "source": [
    "# vector L2 norm\n",
    "from numpy import array\n",
    "from numpy.linalg import norm\n",
    "\n",
    "# define vector\n",
    "a = array([1, 2, 3])\n",
    "print(a)\n",
    "\n",
    "# calculate norm\n",
    "l2 = norm(a)\n",
    "print(l2)"
   ]
  },
  {
   "cell_type": "markdown",
   "id": "fitting-superintendent",
   "metadata": {},
   "source": [
    "Like the L<sup>1</sup> norm, the L<sup>2</sup> norm is often used when fitting machine learning algorithms as a regularization method, e.g. a method to keep the coefficients of the model small and, in turn, the model less complex. By far, the L<sup>2</sup> norm is more commonly used than other vector norms in machine learning."
   ]
  },
  {
   "cell_type": "markdown",
   "id": "fourth-commander",
   "metadata": {},
   "source": [
    "### Vector Max Norm\n",
    "\n",
    "The length of a vector can be calculated using the maximum norm, also called max norm. Max norm of a vector is referred to as L<sup>inf</sup> where inf is a superscript and can be represented with the infinity symbol. The notation for max norm is ||v||<sub>inf</sub> , where inf is a subscript.\n",
    "\n",
    "<center>L<sup>inf</sup>(v) = ||v||<sub>inf</sub></center>\n",
    "\n",
    "The max norm is calculated as returning the maximum value of the vector, hence the name.\n",
    "\n",
    "<center>||v||<sub>inf</sub> = max a1,a2,a3</center>\n",
    "\n",
    "The max norm of a vector can be calculated in NumPy using the norm() function with the order parameter set to inf."
   ]
  },
  {
   "cell_type": "code",
   "execution_count": 3,
   "id": "aquatic-privilege",
   "metadata": {},
   "outputs": [
    {
     "name": "stdout",
     "output_type": "stream",
     "text": [
      "[1 2 3]\n",
      "3.0\n"
     ]
    }
   ],
   "source": [
    "# vector max norm\n",
    "from math import inf\n",
    "from numpy import array\n",
    "from numpy.linalg import norm\n",
    "\n",
    "# define vector\n",
    "a = array([1, 2, 3])\n",
    "print(a)\n",
    "\n",
    "# calculate norm\n",
    "maxnorm = norm(a, inf)\n",
    "print(maxnorm)"
   ]
  },
  {
   "cell_type": "markdown",
   "id": "shaped-replication",
   "metadata": {},
   "source": [
    "Max norm is also used as a regularization in machine learning, such as on neural network\n",
    "weights, called max norm regularization."
   ]
  },
  {
   "cell_type": "code",
   "execution_count": null,
   "id": "buried-dover",
   "metadata": {},
   "outputs": [],
   "source": []
  }
 ],
 "metadata": {
  "kernelspec": {
   "display_name": "Python 3",
   "language": "python",
   "name": "python3"
  },
  "language_info": {
   "codemirror_mode": {
    "name": "ipython",
    "version": 3
   },
   "file_extension": ".py",
   "mimetype": "text/x-python",
   "name": "python",
   "nbconvert_exporter": "python",
   "pygments_lexer": "ipython3",
   "version": "3.9.1"
  }
 },
 "nbformat": 4,
 "nbformat_minor": 5
}
