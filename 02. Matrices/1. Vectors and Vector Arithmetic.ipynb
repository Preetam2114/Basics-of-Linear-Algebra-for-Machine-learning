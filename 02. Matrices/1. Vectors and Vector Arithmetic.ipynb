{
 "cells": [
  {
   "cell_type": "markdown",
   "id": "engaged-assistant",
   "metadata": {},
   "source": [
    "# Vectors and Vector Arithmetic\n",
    "\n",
    "Vectors are a foundational element of linear algebra. Vectors are used throughout the \f\n",
    "eld of\n",
    "machine learning in the description of algorithms and processes such as the target variable (y)\n",
    "when training an algorithm."
   ]
  },
  {
   "cell_type": "markdown",
   "id": "super-richardson",
   "metadata": {},
   "source": [
    "## Defining a Vector\n",
    "\n",
    "We can represent a vector in Python as a NumPy array. A NumPy array can be created from a list of numbers. For example, below we define a vector with the length of 3 and the integer values 1, 2 and 3."
   ]
  },
  {
   "cell_type": "code",
   "execution_count": 1,
   "id": "spread-healthcare",
   "metadata": {},
   "outputs": [
    {
     "name": "stdout",
     "output_type": "stream",
     "text": [
      "[1 2 3]\n"
     ]
    }
   ],
   "source": [
    "# create a vector\n",
    "from numpy import array\n",
    "\n",
    "# define vector\n",
    "v = array([1, 2, 3])\n",
    "print(v)"
   ]
  },
  {
   "cell_type": "markdown",
   "id": "working-subject",
   "metadata": {},
   "source": [
    "## Vector Arithmetic\n",
    "\n",
    "### Vector Addition\n",
    "\n",
    "Two vectors of equal length can be added together to create a new third vector. \n",
    "```\n",
    "c = a + b\n",
    "```\n",
    "\n",
    "The new vector has the same length as the other two vectors. Each element of the new vector is calculated as the addition of the elements of the other vectors at the same index, for example:\n",
    "```\n",
    "c = (a1 + b1, a2 + b2, a3 + b3)\n",
    "```\n",
    "We can add vectors directly in Python by adding NumPy arrays."
   ]
  },
  {
   "cell_type": "code",
   "execution_count": 2,
   "id": "finnish-windows",
   "metadata": {},
   "outputs": [
    {
     "name": "stdout",
     "output_type": "stream",
     "text": [
      "[1 2 3]\n",
      "[1 2 3]\n",
      "[2 4 6]\n"
     ]
    }
   ],
   "source": [
    "# vector addition\n",
    "from numpy import array\n",
    "\n",
    "# define first vector\n",
    "a = array([1, 2, 3])\n",
    "print(a)\n",
    "\n",
    "# define second vector\n",
    "b = array([1, 2, 3])\n",
    "print(b)\n",
    "\n",
    "# add vectors\n",
    "c = a + b\n",
    "print(c)"
   ]
  },
  {
   "cell_type": "markdown",
   "id": "aboriginal-keyboard",
   "metadata": {},
   "source": [
    "### Vector Subtraction\n",
    "\n",
    "One vector can be subtracted from another vector of equal length to create a new third vector.\n",
    "```\n",
    "c = a - b\n",
    "```\n",
    "\n",
    "As with addition, the new vector has the same length as the parent vectors and each element\n",
    "of the new vector is calculated as the subtraction of the elements at the same indices.\n",
    "```\n",
    "c = (a1 - b1, a2 - b2, a3 - b3)\n",
    "```\n",
    "\n",
    "The NumPy arrays can be directly subtracted in Python."
   ]
  },
  {
   "cell_type": "code",
   "execution_count": 3,
   "id": "accessible-description",
   "metadata": {},
   "outputs": [
    {
     "name": "stdout",
     "output_type": "stream",
     "text": [
      "[1 2 3]\n",
      "[0.5 0.5 0.5]\n",
      "[0.5 1.5 2.5]\n"
     ]
    }
   ],
   "source": [
    "# vector subtraction\n",
    "from numpy import array\n",
    "\n",
    "# define first vector\n",
    "a = array([1, 2, 3])\n",
    "print(a)\n",
    "\n",
    "# define second vector\n",
    "b = array([0.5, 0.5, 0.5])\n",
    "print(b)\n",
    "\n",
    "# subtract vectors\n",
    "c = a - b\n",
    "print(c)"
   ]
  },
  {
   "cell_type": "markdown",
   "id": "juvenile-hardwood",
   "metadata": {},
   "source": [
    "### Vector Multiplication\n",
    "Two vectors of equal length can be multiplied together.\n",
    "```\n",
    "c = a x b\n",
    "```\n",
    "\n",
    "As with addition and subtraction, this operation is performed element-wise to result in a\n",
    "new vector of the same length.\n",
    "```\n",
    "c = (a1 x b1, a2 x b2, a3 x b3)\n",
    "```\n",
    "\n",
    "We can perform this operation directly in NumPy."
   ]
  },
  {
   "cell_type": "code",
   "execution_count": 4,
   "id": "outer-refrigerator",
   "metadata": {},
   "outputs": [
    {
     "name": "stdout",
     "output_type": "stream",
     "text": [
      "[1 2 3]\n",
      "[1 2 3]\n",
      "[1 4 9]\n"
     ]
    }
   ],
   "source": [
    "# vector multiplication\n",
    "from numpy import array\n",
    "\n",
    "# define first vector\n",
    "a = array([1, 2, 3])\n",
    "print(a)\n",
    "\n",
    "# define second vector\n",
    "b = array([1, 2, 3])\n",
    "print(b)\n",
    "\n",
    "# multiply vectors\n",
    "c = a * b\n",
    "print(c)"
   ]
  },
  {
   "cell_type": "markdown",
   "id": "composite-classroom",
   "metadata": {},
   "source": [
    "### Vector Division\n",
    "\n",
    "Two vectors of equal length can be divided.\n",
    "```\n",
    "c = a/b\n",
    "```\n",
    "\n",
    "As with other arithmetic operations, this operation is performed element-wise to result in a\n",
    "new vector of the same length.\n",
    "```\n",
    "c = (a1/b1,a2/b2,a3/b3)\n",
    "```\n",
    "\n",
    "We can perform this operation directly in NumPy."
   ]
  },
  {
   "cell_type": "code",
   "execution_count": 5,
   "id": "asian-width",
   "metadata": {},
   "outputs": [
    {
     "name": "stdout",
     "output_type": "stream",
     "text": [
      "[1 2 3]\n",
      "[1 2 3]\n",
      "[1. 1. 1.]\n"
     ]
    }
   ],
   "source": [
    "# vector division\n",
    "from numpy import array\n",
    "\n",
    "# define first vector\n",
    "a = array([1, 2, 3])\n",
    "print(a)\n",
    "\n",
    "# define second vector\n",
    "b = array([1, 2, 3])\n",
    "print(b)\n",
    "\n",
    "# divide vectors\n",
    "c = a / b\n",
    "print(c)"
   ]
  },
  {
   "cell_type": "markdown",
   "id": "graphic-swiss",
   "metadata": {},
   "source": [
    "### Vector Dot Product\n",
    "\n",
    "We can calculate the sum of the multiplied elements of two vectors of the same length to give a scalar. This is called the dot product, named because of the dot operator used when describing the operation.\n",
    "```\n",
    "c = a.b\n",
    "```\n",
    "\n",
    "The operation can be used in machine learning to calculate the weighted sum of a vector. The dot product is calculated as follows:\n",
    "```\n",
    "c = (a1 x b1 + a2 x b2 + a3 x b3)\n",
    "```\n",
    "\n",
    "We can calculate the dot product between two vectors in Python using the dot() function\n",
    "on a NumPy array."
   ]
  },
  {
   "cell_type": "code",
   "execution_count": 7,
   "id": "crude-constraint",
   "metadata": {},
   "outputs": [
    {
     "name": "stdout",
     "output_type": "stream",
     "text": [
      "[1 2 3]\n",
      "[1 2 3]\n",
      "14\n"
     ]
    }
   ],
   "source": [
    "# vector dot product\n",
    "from numpy import array\n",
    "\n",
    "# define first vector\n",
    "a = array([1, 2, 3])\n",
    "print(a)\n",
    "\n",
    "# define second vector\n",
    "b = array([1, 2, 3])\n",
    "print(b)\n",
    "\n",
    "# multiply vectors\n",
    "c = a.dot(b)\n",
    "print(c)"
   ]
  },
  {
   "cell_type": "markdown",
   "id": "applied-black",
   "metadata": {},
   "source": [
    "### Vector-Scalar Multiplication\n",
    "\n",
    "A vector can be multiplied by a scalar, in effect scaling the magnitude of the vector. To keep notation simple, we will use lowercase s to represent the scalar value.\n",
    "```\n",
    "c = s x v\n",
    "```\n",
    "\n",
    "The multiplication is performed on each element of the vector to result in a new scaled vector of the same length.\n",
    "```\n",
    "c = (s x v1, s x v2, s x v3)\n",
    "```\n",
    "\n",
    "We can perform this operation directly with the NumPy array."
   ]
  },
  {
   "cell_type": "code",
   "execution_count": null,
   "id": "controlled-hobby",
   "metadata": {},
   "outputs": [],
   "source": [
    "# vector-scalar multiplication\n",
    "from numpy import array\n",
    "\n",
    "# define vector\n",
    "a = array([1, 2, 3])\n",
    "print(a)\n",
    "\n",
    "# define scalar\n",
    "s = 0.5\n",
    "print(s)\n",
    "\n",
    "# multiplication\n",
    "c = s * a\n",
    "print(c)"
   ]
  }
 ],
 "metadata": {
  "kernelspec": {
   "display_name": "Python 3",
   "language": "python",
   "name": "python3"
  },
  "language_info": {
   "codemirror_mode": {
    "name": "ipython",
    "version": 3
   },
   "file_extension": ".py",
   "mimetype": "text/x-python",
   "name": "python",
   "nbconvert_exporter": "python",
   "pygments_lexer": "ipython3",
   "version": "3.9.1"
  }
 },
 "nbformat": 4,
 "nbformat_minor": 5
}
