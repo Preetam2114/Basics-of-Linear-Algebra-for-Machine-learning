{
 "cells": [
  {
   "cell_type": "markdown",
   "id": "parallel-passing",
   "metadata": {},
   "source": [
    "# Types of Matrices\n",
    "\n",
    "A lot of linear algebra is concerned with operations on vectors and matrices, and there are many different types of matrices. There are a few types of matrices that you may encounter again and again when getting started in linear algebra, particularity the parts of linear algebra relevant to machine learning.\n",
    "\n",
    "## Square Matrix\n",
    "\n",
    "A square matrix is a matrix where the number of rows (n) is equivalent to the number of columns (m).\n",
    "\n",
    "$ n \\equiv m $\n",
    "\n",
    "Below is an example of an order 3 square matrix.\n",
    "\n",
    "$\\begin{aligned}\n",
    "M = \\begin{pmatrix} 1\\; 2\\; 3\\\\\n",
    "1\\; 2\\; 3\\\\\n",
    "1\\; 2\\; 3\n",
    "\\end{pmatrix}\n",
    "\\end{aligned}\n",
    "$\n",
    "\n",
    "Square matrices are readily added and multiplied together and are the basis of many simple linear transformations, such as rotations (as in the rotations of images)."
   ]
  },
  {
   "cell_type": "markdown",
   "id": "renewable-regulation",
   "metadata": {},
   "source": [
    "## Symmetric Matrix\n",
    "\n",
    "A symmetric matrix is a type of square matrix where the top-right triangle is the same as the bottom-left triangle.\n",
    "\n",
    "To be symmetric, the axis of symmetry is always the main diagonal of the matrix, from the top left to the bottom right. Below is an example of a 5 x 5 symmetric matrix.\n",
    "\n",
    "$\\begin{aligned}\n",
    "M = \\begin{pmatrix}\n",
    "1\\; 2\\; 3\\; 4\\; 5\\\\\n",
    "2\\; 1\\; 2\\; 3\\; 4\\\\\n",
    "3\\; 2\\; 1\\; 2\\; 3\\\\\n",
    "4\\; 3\\; 2\\; 1\\; 2\\\\\n",
    "5\\; 4\\; 3\\; 2\\; 1\\\\\n",
    "\\end{pmatrix}\n",
    "\\end{aligned}\n",
    "$\n",
    "\n",
    "A symmetric matrix is always square and equal to its own transpose. The transpose is an operation that flips the number of rows and columns.\n",
    "\n",
    "$ M = M^T $"
   ]
  },
  {
   "cell_type": "markdown",
   "id": "existing-heaven",
   "metadata": {},
   "source": [
    "## Triangular Matrix\n",
    "\n",
    "A triangular matrix is a type of square matrix that has all values in the upper-right or lower-left of the matrix with the remaining elements filled with zero values. A triangular matrix with values only above the main diagonal is called an upper triangular matrix. Whereas, a triangular matrix with values only below the main diagonal is called a lower triangular matrix. \n",
    "\n",
    "Below is an example of a 3 x 3 upper triangular matrix.\n",
    "\n",
    "$\\begin{aligned}\n",
    "M = \\begin{pmatrix}\n",
    "1\\; 2\\; 3\\\\\n",
    "0\\; 2\\; 3\\\\\n",
    "0\\; 0\\; 3\\\\\n",
    "\\end{pmatrix}\n",
    "\\end{aligned}\n",
    "$\n",
    "\n",
    "Below is an example of a 3 x 3 lower triangular matrix\n",
    "\n",
    "$\\begin{aligned}\n",
    "M = \\begin{pmatrix}\n",
    "1\\; 0\\; 0\\\\\n",
    "1\\; 2\\; 0\\\\\n",
    "1\\; 2\\; 3\\\\\n",
    "\\end{pmatrix}\n",
    "\\end{aligned}\n",
    "$\n",
    "\n",
    "NumPy provides functions to calculate a triangular matrix from an existing square matrix. The **tril()** function to calculate the lower triangular matrix from a given matrix and the **triu()** to calculate the upper triangular matrix from a given matrix The example below defines a 3 x 3 square matrix and calculates the lower and upper triangular matrix from it."
   ]
  },
  {
   "cell_type": "code",
   "execution_count": 1,
   "id": "rough-verification",
   "metadata": {},
   "outputs": [
    {
     "name": "stdout",
     "output_type": "stream",
     "text": [
      "[[1 2 3]\n",
      " [1 2 3]\n",
      " [1 2 3]]\n",
      "[[1 0 0]\n",
      " [1 2 0]\n",
      " [1 2 3]]\n",
      "[[1 2 3]\n",
      " [0 2 3]\n",
      " [0 0 3]]\n"
     ]
    }
   ],
   "source": [
    "# triangular matrices\n",
    "from numpy import array\n",
    "from numpy import tril\n",
    "from numpy import triu\n",
    "\n",
    "# define square matrix\n",
    "M = array([\n",
    "[1, 2, 3],\n",
    "[1, 2, 3],\n",
    "[1, 2, 3]])\n",
    "print(M)\n",
    "\n",
    "# lower triangular matrix\n",
    "lower = tril(M)\n",
    "print(lower)\n",
    "\n",
    "# upper triangular matrix\n",
    "upper = triu(M)\n",
    "print(upper)"
   ]
  },
  {
   "cell_type": "markdown",
   "id": "resistant-response",
   "metadata": {},
   "source": [
    "## Diagonal Matrix\n",
    "\n",
    "A diagonal matrix is one where values outside of the main diagonal have a zero value, where the main diagonal is taken from the top left of the matrix to the bottom right. A diagonal matrix is often denoted with the variable D and may be represented as a full matrix or as a vector of values on the main diagonal.\n",
    "\n",
    "Below is an example of a 3 x 3 square diagonal matrix.\n",
    "\n",
    "$\\begin{aligned}\n",
    "D = \\begin{pmatrix}\n",
    "1\\; 0\\; 0\\\\\n",
    "0\\; 2\\; 0\\\\\n",
    "0\\; 0\\; 3\n",
    "\\end{pmatrix}\n",
    "\\end{aligned}\n",
    "$\n",
    "\n",
    "As a vector, it would be represented as:\n",
    "\n",
    "$\\begin{aligned}\n",
    "D = \\begin{pmatrix}\n",
    "d_{1,1}\\\\\n",
    "d_{2,2}\\\\\n",
    "d_{3,3}\n",
    "\\end{pmatrix}\n",
    "\\end{aligned}\n",
    "$\n",
    "\n",
    "A diagonal matrix does not have to be square. In the case of a rectangular matrix, the diagonal would cover the dimension with the smallest length; for example:\n",
    "\n",
    "$\\begin{aligned}\n",
    "D = \\begin{pmatrix}\n",
    "1\\; 0\\; 0\\; 0\\\\\n",
    "0\\; 2\\; 0\\; 0\\\\\n",
    "0\\; 0\\; 3\\; 0\\\\\n",
    "0\\; 0\\; 0\\; 4\\\\\n",
    "0\\; 0\\; 0\\; 0\n",
    "\\end{pmatrix}\n",
    "\\end{aligned}\n",
    "$\n",
    "\n",
    "NumPy provides the function **diag()** that can create a diagonal matrix from an existing matrix, or transform a vector into a diagonal matrix. The example below defines a 3 x 3 square matrix, extracts the main diagonal as a vector, and then creates a diagonal matrix from the extracted vector."
   ]
  },
  {
   "cell_type": "code",
   "execution_count": 2,
   "id": "spoken-diameter",
   "metadata": {},
   "outputs": [
    {
     "name": "stdout",
     "output_type": "stream",
     "text": [
      "[[1 2 3]\n",
      " [1 2 3]\n",
      " [1 2 3]]\n",
      "[1 2 3]\n",
      "[[1 0 0]\n",
      " [0 2 0]\n",
      " [0 0 3]]\n"
     ]
    }
   ],
   "source": [
    "# diagonal matrix\n",
    "from numpy import array\n",
    "from numpy import diag\n",
    "\n",
    "# define square matrix\n",
    "M = array([\n",
    "[1, 2, 3],\n",
    "[1, 2, 3],\n",
    "[1, 2, 3]])\n",
    "print(M)\n",
    "\n",
    "# extract diagonal vector\n",
    "d = diag(M)\n",
    "print(d)\n",
    "\n",
    "# create diagonal matrix from vector\n",
    "D = diag(d)\n",
    "print(D)"
   ]
  },
  {
   "cell_type": "markdown",
   "id": "cordless-cookbook",
   "metadata": {},
   "source": [
    "## Identity Matrix\n",
    "\n",
    "An identity matrix is a square matrix that does not change a vector when multiplied. The values of an identity matrix are known. All of the scalar values along the main diagonal (top-left to bottom-right) have the value one, while all other values are zero.\n",
    "\n",
    "An identity matrix is often represented using the notation I or with the dimensionality $I^n$, where n is a subscript that indicates the dimensionality of the square identity matrix. In some notations, the identity may be referred to as the unit matrix, or $U$, to honor the one value it contains (this is difierent from a Unitary matrix). For example, an identity matrix with the size 3 or $I^3$ would be as follows:\n",
    "\n",
    "$\\begin{aligned}\n",
    "I = \\begin{pmatrix}\n",
    "1\\; 0\\; 0\\\\\n",
    "0\\; 1\\; 0\\\\\n",
    "0\\; 0\\; 1\n",
    "\\end{pmatrix}\n",
    "\\end{aligned}\n",
    "$\n",
    "\n",
    "In NumPy, an identity matrix can be created with a specific size using the **identity()** function. The example below creates an $I^3$ identity matrix."
   ]
  },
  {
   "cell_type": "code",
   "execution_count": 3,
   "id": "black-peace",
   "metadata": {},
   "outputs": [
    {
     "name": "stdout",
     "output_type": "stream",
     "text": [
      "[[1. 0. 0.]\n",
      " [0. 1. 0.]\n",
      " [0. 0. 1.]]\n"
     ]
    }
   ],
   "source": [
    "# identity matrix\n",
    "from numpy import identity\n",
    "I = identity(3)\n",
    "print(I)"
   ]
  },
  {
   "cell_type": "markdown",
   "id": "preliminary-marketplace",
   "metadata": {},
   "source": [
    "Alone, the identity matrix is not that interesting, although it is a component in other import matrix operations, such as matrix inversion."
   ]
  },
  {
   "cell_type": "markdown",
   "id": "written-partnership",
   "metadata": {},
   "source": [
    "## Orthogonal Matrix\n",
    "\n",
    "Two vectors are orthogonal when their dot product equals zero. The length of each vector is 1 then the vectors are called orthonormal because they are both orthogonal and normalized.\n",
    "\n",
    "$v\\; . \\;w = 0$\n",
    "\n",
    "or\n",
    "\n",
    "$v\\; . \\;w^T = 0$\n",
    "\n",
    "This is intuitive when we consider that one line is orthogonal with another if it is perpendicular to it. An orthogonal matrix is a type of square matrix whose columns and rows are orthonormal unit vectors, e.g. perpendicular and have a length or magnitude of 1.\n",
    "\n",
    "An Orthogonal matrix is often denoted as uppercase Q. The Orthogonal matrix is de\f\n",
    "ned formally as follows:\n",
    "\n",
    "$Q^T\\; . \\;Q = Q\\; . \\;Q^T = I$\n",
    "\n",
    "Where Q is the orthogonal matrix, $Q^T$ indicates the transpose of Q, and I is the identity matrix. A matrix is orthogonal if its transpose is equal to its inverse.\n",
    "\n",
    "$Q^T = Q^{-1}$\n",
    "\n",
    "Another equivalence for an orthogonal matrix is if the dot product of the matrix and itself equals the identity matrix.\n",
    "\n",
    "$Q\\; . \\;Q^T = I$\n",
    "\n",
    "Orthogonal matrices are used a lot for linear transformations, such as reflections and permutations. A simple 2 x 2 orthogonal matrix is listed below, which is an example of are reflection matrix or coordinate reflection.\n",
    "\n",
    "$\\begin{aligned}\n",
    "Q = \\begin{pmatrix}\n",
    "1\\; 0\\\\\n",
    "0\\; -1\n",
    "\\end{pmatrix}\n",
    "\\end{aligned}\n",
    "$"
   ]
  },
  {
   "cell_type": "code",
   "execution_count": 1,
   "id": "ancient-senator",
   "metadata": {},
   "outputs": [
    {
     "name": "stdout",
     "output_type": "stream",
     "text": [
      "[[ 1  0]\n",
      " [ 0 -1]]\n",
      "[[ 1  0]\n",
      " [ 0 -1]]\n",
      "[[ 1.  0.]\n",
      " [-0. -1.]]\n",
      "[[1 0]\n",
      " [0 1]]\n"
     ]
    }
   ],
   "source": [
    "# orthogonal matrix\n",
    "from numpy import array\n",
    "from numpy.linalg import inv\n",
    "\n",
    "# define orthogonal matrix\n",
    "Q = array([\n",
    "    [1, 0],\n",
    "    [0, -1]])\n",
    "print(Q)\n",
    "\n",
    "# inverse equivalence\n",
    "V = inv(Q)\n",
    "print(Q.T)\n",
    "print(V)\n",
    "\n",
    "# identity equivalence\n",
    "I = Q.dot(Q.T)\n",
    "print(I)"
   ]
  },
  {
   "cell_type": "markdown",
   "id": "d9166a83",
   "metadata": {},
   "source": [
    "Note, sometimes a number close to zero can be represented as -0 due to the rounding of floating point precision. Just take it as 0.0. Orthogonal matrices are useful tools as they are computationally cheap and stable to calculate their inverse as simply their transpose."
   ]
  }
 ],
 "metadata": {
  "kernelspec": {
   "display_name": "Python 3.9.1 64-bit",
   "language": "python",
   "name": "python3"
  },
  "language_info": {
   "codemirror_mode": {
    "name": "ipython",
    "version": 3
   },
   "file_extension": ".py",
   "mimetype": "text/x-python",
   "name": "python",
   "nbconvert_exporter": "python",
   "pygments_lexer": "ipython3",
   "version": "3.9.1"
  },
  "vscode": {
   "interpreter": {
    "hash": "397704579725e15f5c7cb49fe5f0341eb7531c82d19f2c29d197e8b64ab5776b"
   }
  }
 },
 "nbformat": 4,
 "nbformat_minor": 5
}
