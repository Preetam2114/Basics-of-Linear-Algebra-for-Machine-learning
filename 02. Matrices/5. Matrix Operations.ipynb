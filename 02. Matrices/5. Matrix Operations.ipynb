{
 "cells": [
  {
   "cell_type": "markdown",
   "id": "departmental-found",
   "metadata": {},
   "source": [
    "# Matrix Operations\n",
    "\n",
    "Matrix operations are used in the description of many machine learning algorithms. Some operations can be used directly to solve key equations, whereas others provide useful shorthand or foundation in the description and the use of more complex matrix operations.\n",
    "\n",
    "## Transpose\n",
    "\n",
    "A defined matrix can be transposed, which creates a new matrix with the number of columns and rows flipped. This is denoted by the superscript $T$ next to the matrix $A^T$.\n",
    "\n",
    "$$\\begin{aligned}\n",
    "C = A^T\n",
    "\\end{aligned}\n",
    "$$\n",
    "\n",
    "An invisible diagonal line can be drawn through the matrix from top left to bottom right on which the matrix can be flipped to give the transpose.\n",
    "\n",
    "$$\\begin{aligned}\n",
    "A = \\begin{pmatrix}\n",
    "1\\; 2\\\\\n",
    "3\\; 4\\\\\n",
    "5\\; 6\n",
    "\\end{pmatrix}\n",
    "\\end{aligned}\n",
    "$$\n",
    "\n",
    "$$\\begin{aligned}\n",
    "A^T = \\begin{pmatrix}\n",
    "1\\; 3\\; 5\\\\\n",
    "2\\; 4\\; 6\n",
    "\\end{pmatrix}\n",
    "\\end{aligned}\n",
    "$$\n",
    "\n",
    "The operation has no effect if the matrix is symmetrical, e.g. has the same number of columns and rows and the same values at the same locations on both sides of the invisible diagonal line.\n",
    "\n",
    "We can transpose a matrix in NumPy by calling the T attribute."
   ]
  },
  {
   "cell_type": "code",
   "execution_count": 1,
   "id": "moving-advertising",
   "metadata": {},
   "outputs": [
    {
     "name": "stdout",
     "output_type": "stream",
     "text": [
      "[[1 2]\n",
      " [3 4]\n",
      " [5 6]]\n",
      "[[1 3 5]\n",
      " [2 4 6]]\n"
     ]
    }
   ],
   "source": [
    "# transpose matrix\n",
    "from numpy import array\n",
    "\n",
    "# define matrix\n",
    "A = array([\n",
    "[1, 2],\n",
    "[3, 4],\n",
    "[5, 6]])\n",
    "print(A)\n",
    "\n",
    "# calculate transpose\n",
    "C = A.T\n",
    "print(C)"
   ]
  },
  {
   "cell_type": "markdown",
   "id": "brown-winner",
   "metadata": {},
   "source": [
    "## Inverse\n",
    "\n",
    "Matrix inversion is a process that finds another matrix that when multiplied with the matrix, results in an identity matrix. Given a matrix A, find matrix B, such that $AB = I^n$ or $BA = I^n$.\n",
    "\n",
    "The operation of inverting a matrix is indicated by a -1 superscript next to the matrix; for example, $A^{-1}$. The result of the operation is referred to as the inverse of the original matrix; for example, B is the inverse of A.\n",
    "\n",
    "$$B = A^{-1}$$\n",
    "\n",
    "A matrix is invertible if there exists another matrix that results in the identity matrix, where not all matrices are invertible. A square matrix that is not invertible is referred to as singular.\n",
    "\n",
    "**Note: Whatever A does, $A^{-1}$ undoes.**\n",
    "\n",
    "The matrix inversion operation is not computed directly, but rather the inverted matrix is discovered through a numerical operation, where a suite of efficient methods may be used, often involving forms of matrix decomposition.\n",
    "\n",
    "**Note: $A^{-1}$ should not actually be used in practice for most software applications.**\n",
    "\n",
    "A matrix can be inverted in NumPy using the $inv()$ function."
   ]
  },
  {
   "cell_type": "code",
   "execution_count": 2,
   "id": "bacterial-neighborhood",
   "metadata": {},
   "outputs": [
    {
     "name": "stdout",
     "output_type": "stream",
     "text": [
      "[[1. 2.]\n",
      " [3. 4.]]\n",
      "[[-2.   1. ]\n",
      " [ 1.5 -0.5]]\n",
      "[[1.0000000e+00 0.0000000e+00]\n",
      " [8.8817842e-16 1.0000000e+00]]\n"
     ]
    }
   ],
   "source": [
    "# invert matrix\n",
    "from numpy import array\n",
    "from numpy.linalg import inv\n",
    "\n",
    "# define matrix\n",
    "A = array([\n",
    "[1.0, 2.0],\n",
    "[3.0, 4.0]])\n",
    "print(A)\n",
    "\n",
    "# invert matrix\n",
    "B = inv(A)\n",
    "print(B)\n",
    "\n",
    "# multiply A and B\n",
    "I = A.dot(B)\n",
    "print(I)"
   ]
  },
  {
   "cell_type": "markdown",
   "id": "removable-communist",
   "metadata": {},
   "source": [
    "Note, your specific results may vary given differences in floating point precision on different hardware and software versions. Matrix inversion is used as an operation in solving systems of equations framed as matrix equations where we are interested in finding vectors of unknowns. A good example is in finding the vector of coefficient values in linear regression."
   ]
  },
  {
   "cell_type": "markdown",
   "id": "greenhouse-herald",
   "metadata": {},
   "source": [
    "## Trace\n",
    "\n",
    "A trace of a square matrix is the sum of the values on the main diagonal of the matrix (top-left to bottom-right).\n",
    "\n",
    "**Note: The trace operator gives the sum of all of the diagonal entries of a matrix**\n",
    "\n",
    "The operation of calculating a trace on a square matrix is described using the notation $\\textbf{tr(A)}$ where A is the square matrix on which the operation is being performed.\n",
    "\n",
    "The trace is calculated as the sum of the diagonal values; for example, in the case of a 3 x 3 matrix:\n",
    "\n",
    "$$tr(A) = a_{1,1} + a_{2,2} + a_{3,3}$$\n",
    "\n",
    "We can calculate the trace of a matrix in NumPy using the **trace()** function"
   ]
  },
  {
   "cell_type": "code",
   "execution_count": 3,
   "id": "impressive-malaysia",
   "metadata": {},
   "outputs": [
    {
     "name": "stdout",
     "output_type": "stream",
     "text": [
      "[[1 2 3]\n",
      " [4 5 6]\n",
      " [7 8 9]]\n",
      "15\n"
     ]
    }
   ],
   "source": [
    "# matrix trace\n",
    "from numpy import array\n",
    "from numpy import trace\n",
    "\n",
    "# define matrix\n",
    "A = array([\n",
    "[1, 2, 3],\n",
    "[4, 5, 6],\n",
    "[7, 8, 9]])\n",
    "print(A)\n",
    "\n",
    "# calculate trace\n",
    "B = trace(A)\n",
    "print(B)"
   ]
  },
  {
   "cell_type": "markdown",
   "id": "fossil-agriculture",
   "metadata": {},
   "source": [
    "Alone, the trace operation is not interesting, but it offers a simpler notation and it is used as an element in other key matrix operations."
   ]
  },
  {
   "cell_type": "markdown",
   "id": "embedded-stomach",
   "metadata": {},
   "source": [
    "## Determinant\n",
    "\n",
    "The determinant of a square matrix is a scalar representation of the volume of the matrix.\n",
    "It is denoted by the $\\textbf{det(A)}$ notation or $\\textbf{|A|}$, where A is the matrix on which we are calculating the determinant.\n",
    "\n",
    "The determinant of a square matrix is calculated from the elements of the matrix. More technically, the determinant is the product of all the eigenvalues of the matrix. Eigenvalues are introduced in the lessons on matrix factorization. The intuition for the determinant is that it describes the way a matrix will scale another matrix when they are multiplied together. For example, a determinant of 1 preserves the space of the other matrix. A determinant of 0\n",
    "indicates that the matrix cannot be inverted.\n",
    "\n",
    "In NumPy, the determinant of a matrix can be calculated using the **det()** function."
   ]
  },
  {
   "cell_type": "code",
   "execution_count": 4,
   "id": "interior-mount",
   "metadata": {},
   "outputs": [
    {
     "name": "stdout",
     "output_type": "stream",
     "text": [
      "[[1 2 3]\n",
      " [4 5 6]\n",
      " [7 8 9]]\n",
      "0.0\n"
     ]
    }
   ],
   "source": [
    "# matrix determinant\n",
    "from numpy import array\n",
    "from numpy.linalg import det\n",
    "\n",
    "# define matrix\n",
    "A = array([\n",
    "[1, 2, 3],\n",
    "[4, 5, 6],\n",
    "[7, 8, 9]])\n",
    "print(A)\n",
    "\n",
    "# calculate determinant\n",
    "B = det(A)\n",
    "print(B)"
   ]
  },
  {
   "cell_type": "markdown",
   "id": "inner-southwest",
   "metadata": {},
   "source": [
    "Like the trace operation, alone, the determinant operation is not interesting, but it offers a simpler notation and it is used as an element in other key matrix operations."
   ]
  },
  {
   "cell_type": "markdown",
   "id": "related-compilation",
   "metadata": {},
   "source": [
    "## Rank\n",
    "\n",
    "The rank of a matrix is the estimate of the number of linearly independent rows or columns in a matrix. The rank of a matrix M is often denoted as the function **rank()**.\n",
    "\n",
    "An intuition for rank is to consider it the number of dimensions spanned by all of the vectors within a matrix. For example, a rank of 0 suggest all vectors span a point, a rank of 1 suggests all vectors span a line, a rank of 2 suggests all vectors span a two-dimensional plane. The rank is estimated numerically, often using a matrix decomposition method. A common approach is to use the Singular-Value Decomposition or SVD for short. NumPy provides the matrix rank() function for calculating the rank of an array. It uses the SVD method to estimate the rank. The example below demonstrates calculating the rank of a matrix with scalar values and another vector with all zero values."
   ]
  },
  {
   "cell_type": "code",
   "execution_count": 5,
   "id": "going-wrist",
   "metadata": {},
   "outputs": [
    {
     "name": "stdout",
     "output_type": "stream",
     "text": [
      "[1 2 3]\n",
      "1\n",
      "[0 0 0 0 0]\n",
      "0\n"
     ]
    }
   ],
   "source": [
    "# vector rank\n",
    "from numpy import array\n",
    "from numpy.linalg import matrix_rank\n",
    "\n",
    "# rank\n",
    "v1 = array([1,2,3])\n",
    "print(v1)\n",
    "vr1 = matrix_rank(v1)\n",
    "print(vr1)\n",
    "\n",
    "# zero rank\n",
    "v2 = array([0,0,0,0,0])\n",
    "print(v2)\n",
    "vr2 = matrix_rank(v2)\n",
    "print(vr2)"
   ]
  },
  {
   "cell_type": "markdown",
   "id": "satellite-usage",
   "metadata": {},
   "source": [
    "The next example makes it clear that the rank is not the number of dimensions of the matrix, but the number of linearly independent directions. Three examples of a 2 x 2 matrix are provided demonstrating matrices with rank 0,1 and 2."
   ]
  },
  {
   "cell_type": "code",
   "execution_count": 6,
   "id": "industrial-canadian",
   "metadata": {},
   "outputs": [
    {
     "name": "stdout",
     "output_type": "stream",
     "text": [
      "[[0 0]\n",
      " [0 0]]\n",
      "0\n",
      "[[1 2]\n",
      " [1 2]]\n",
      "1\n",
      "[[1 2]\n",
      " [3 4]]\n",
      "2\n"
     ]
    }
   ],
   "source": [
    "# matrix rank\n",
    "from numpy import array\n",
    "from numpy.linalg import matrix_rank\n",
    "\n",
    "# rank 0\n",
    "M0 = array([\n",
    "[0,0],\n",
    "[0,0]])\n",
    "print(M0)\n",
    "mr0 = matrix_rank(M0)\n",
    "print(mr0)\n",
    "\n",
    "# rank 1\n",
    "M1 = array([\n",
    "[1,2],\n",
    "[1,2]])\n",
    "print(M1)\n",
    "mr1 = matrix_rank(M1)\n",
    "print(mr1)\n",
    "\n",
    "# rank 2\n",
    "M2 = array([\n",
    "[1,2],\n",
    "[3,4]])\n",
    "print(M2)\n",
    "mr2 = matrix_rank(M2)\n",
    "print(mr2)"
   ]
  },
  {
   "cell_type": "code",
   "execution_count": null,
   "id": "instrumental-hunger",
   "metadata": {},
   "outputs": [],
   "source": []
  }
 ],
 "metadata": {
  "kernelspec": {
   "display_name": "Python 3",
   "language": "python",
   "name": "python3"
  },
  "language_info": {
   "codemirror_mode": {
    "name": "ipython",
    "version": 3
   },
   "file_extension": ".py",
   "mimetype": "text/x-python",
   "name": "python",
   "nbconvert_exporter": "python",
   "pygments_lexer": "ipython3",
   "version": "3.9.1"
  }
 },
 "nbformat": 4,
 "nbformat_minor": 5
}
