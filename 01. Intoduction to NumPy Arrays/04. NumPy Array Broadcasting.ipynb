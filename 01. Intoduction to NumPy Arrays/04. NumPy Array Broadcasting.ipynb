{
 "cells": [
  {
   "cell_type": "markdown",
   "metadata": {},
   "source": [
    "# NumPy Array Broadcasting\n",
    "\n",
    "Arrays with different sizes cannot be added, subtracted, or generally be used in arithmetic. A\n",
    "way to overcome this is to duplicate the smaller array so that it has the dimensionality and\n",
    "size as the larger array. This is called array broadcasting and is available in NumPy when\n",
    "performing array arithmetic, which can greatly reduce and simplify your code.\n",
    "\n",
    "## Limitation with Array Arithmetic\n",
    "\n",
    "For example, an array a can be defined as **[1, 2, 3]** and array b can be\n",
    "defined as **[1, 2, 3]** and adding together will result in a new array with the values **[2, 4, 6]**.Strictly, arithmetic may only be performed on arrays that have the same dimensions and dimensions with the same size.This means that a one-dimensional array with the length of 10 can only perform arithmetic with another one-dimensional array with the length 10. Thankfully, NumPy provides a built-in workaround to allow arithmetic between arrays with differing sizes."
   ]
  },
  {
   "cell_type": "markdown",
   "metadata": {},
   "source": [
    "## Array Broadcasting\n",
    "\n",
    "Broadcasting is the name given to the method that NumPy uses to allow array arithmetic between arrays with a different shape or size. Although the technique was developed for NumPy, it has also been adopted more broadly in other numerical computational libraries, such as Theano, TensorFlow, and Octave Broadcasting solves the problem of arithmetic between arrays of differing shapes by in effect replicating the smaller array along the last mismatched dimension.\n",
    "\n",
    "NumPy does not actually duplicate the smaller array, instead, it makes memory and computationally effcient use of existing structures in memory that in effect achieve the same result. The concept has also permeated linear algebra notation to simplify the explanation of simple operations.\n",
    "\n",
    "In the context of deep learning, we also use some less conventional notation. We allow the addition of matrix and a vector, yielding another matrix: **C = A+b**, where **C<sub>ij</sub> = A<sub>ij</sub> + b<sub>j</sub>** . In other words, the vector b is added to each row of the matrix."
   ]
  },
  {
   "cell_type": "markdown",
   "metadata": {},
   "source": [
    "## Broadcasting in NumPy\n",
    "\n",
    "We can make broadcasting concrete by looking at three examples in NumPy. The examples in this section are not exhaustive,\n",
    "\n",
    "### Scalar and One-Dimensional Array\n",
    "\n",
    "A single value or scalar can be used in arithmetic with a one-dimensional array. For example, we can imagine a one-dimensional array a with three values [a1, a2, a3] added to a scalar b.\n",
    "\n",
    "```\n",
    "a = [a1, a2, a3]\n",
    "\n",
    "b = [b1, b2, b3]\n",
    "\n",
    "c = a + b\n",
    "c = [a1 + b1, a2 + b2, a3 + b3]\n",
    "```"
   ]
  },
  {
   "cell_type": "code",
   "execution_count": 3,
   "metadata": {},
   "outputs": [
    {
     "name": "stdout",
     "output_type": "stream",
     "text": [
      "[1 2 3]\n",
      "2\n",
      "[3 4 5]\n"
     ]
    }
   ],
   "source": [
    "# Import library\n",
    "from numpy import array\n",
    "\n",
    "# define array\n",
    "a = array([1, 2, 3])\n",
    "print(a)\n",
    "\n",
    "# define scalar\n",
    "b = 2\n",
    "print(b)\n",
    "\n",
    "# broadcast\n",
    "c = a + b\n",
    "print(c)"
   ]
  },
  {
   "cell_type": "markdown",
   "metadata": {},
   "source": [
    "### Scalar and Two-Dimensional Array\n",
    "\n",
    "A scalar value can be used in arithmetic with a two-dimensional array. For example, we can imagine a two-dimensional array A with 2 rows and 3 columns added to the scalar b."
   ]
  },
  {
   "cell_type": "code",
   "execution_count": 1,
   "metadata": {},
   "outputs": [
    {
     "name": "stdout",
     "output_type": "stream",
     "text": [
      "[[1 2 3]\n",
      " [1 2 3]]\n",
      "2\n",
      "[[3 4 5]\n",
      " [3 4 5]]\n"
     ]
    }
   ],
   "source": [
    "# Import necessary libraries\n",
    "from numpy import array\n",
    "\n",
    "# define array\n",
    "A = array([\n",
    "[1, 2, 3],\n",
    "[1, 2, 3]])\n",
    "print(A)\n",
    "\n",
    "# define scalar\n",
    "b = 2\n",
    "print(b)\n",
    "\n",
    "# broadcast\n",
    "C = A + b\n",
    "print(C)"
   ]
  },
  {
   "cell_type": "markdown",
   "metadata": {},
   "source": [
    "### One-Dimensional and Two-Dimensional Arrays\n",
    "\n",
    "A one-dimensional array can be used in arithmetic with a two-dimensional array. For example, we can imagine a two-dimensional array A with 2 rows and 3 columns added to a one-dimensional array b with 3 values."
   ]
  },
  {
   "cell_type": "code",
   "execution_count": 2,
   "metadata": {},
   "outputs": [
    {
     "name": "stdout",
     "output_type": "stream",
     "text": [
      "[[1 2 3]\n",
      " [1 2 3]]\n",
      "[1 2 3]\n",
      "[[2 4 6]\n",
      " [2 4 6]]\n"
     ]
    }
   ],
   "source": [
    "# Import necessary libraries\n",
    "from numpy import array\n",
    "\n",
    "# define two-dimensional array\n",
    "A = array([\n",
    "[1, 2, 3],\n",
    "[1, 2, 3]])\n",
    "print(A)\n",
    "\n",
    "# define one-dimensional array\n",
    "b = array([1, 2, 3])\n",
    "print(b)\n",
    "\n",
    "# broadcast\n",
    "C = A + b\n",
    "print(C)"
   ]
  },
  {
   "cell_type": "markdown",
   "metadata": {},
   "source": [
    "## Limitations of Broadcasting\n",
    "\n",
    "Broadcasting is a handy shortcut that proves very useful in practice when working with NumPy arrays. That being said, it does not work for all cases, and in fact imposes a strict rule that must be satis\f",
    "ed for broadcasting to be performed.\n",
    "\n",
    "Arithmetic, including broadcasting, can only be performed when the shape of each dimension in the arrays are equal or one has the dimension size of 1. The dimensions are considered in reverse order, starting with the trailing dimension; for example, looking at columns before rows in a two-dimensional case.\n",
    "\n",
    "This make more sense when we consider that NumPy will in effect pad missing dimensions with a size of 1 when comparing arrays. Therefore, the comparison between a two-dimensional array A with 2 rows and 3 columns and a vector b with 3 elements:\n",
    "\n",
    "```\n",
    "A.shape = (2 x 3)\n",
    "b.shape = (3)\n",
    "\n",
    "In effect, this becomes a comparison between:\n",
    "    A.shape = (2 x 3)\n",
    "    b.shape = (1 x 3)\n",
    "\n",
    "This same notion applies to the comparison between a scalar that is treated as an array with\n",
    "the required number of dimensions:\n",
    "    A.shape = (2 x 3)\n",
    "    b.shape = (1)\n",
    "\n",
    "This becomes a comparison between:\n",
    "    A.shape = (2 x 3)\n",
    "    b.shape = (1 x 1)\n",
    "\n",
    "When the comparison fails, the broadcast cannot be performed, and an error is raised.\n",
    "The example below attempts to broadcast a two-element array to a 2 x 3 array. This\n",
    "comparison is in effect:\n",
    "    A.shape = (2 x 3)\n",
    "    b.shape = (1 x 2)\n",
    "\n",
    "We can see that the last dimensions (columns) do not match and we would expect the\n",
    "broadcast to fail. The example below demonstrates this in NumPy.\n",
    "```"
   ]
  },
  {
   "cell_type": "code",
   "execution_count": 4,
   "metadata": {},
   "outputs": [
    {
     "name": "stdout",
     "output_type": "stream",
     "text": [
      "(2, 3)\n",
      "(2,)\n",
      "operands could not be broadcast together with shapes (2,3) (2,) \n"
     ]
    }
   ],
   "source": [
    "# Import necessary libraries\n",
    "from numpy import array\n",
    "\n",
    "# define two-dimensional array\n",
    "A = array([\n",
    "[1, 2, 3],\n",
    "[1, 2, 3]])\n",
    "print(A.shape)\n",
    "\n",
    "# define one-dimensional array\n",
    "b = array([1, 2])\n",
    "print(b.shape)\n",
    "\n",
    "# attempt broadcast\n",
    "try:\n",
    "    C = A + b\n",
    "    print(C)\n",
    "except Exception as e: \n",
    "    print(e)"
   ]
  },
  {
   "cell_type": "code",
   "execution_count": null,
   "metadata": {},
   "outputs": [],
   "source": []
  }
 ],
 "metadata": {
  "kernelspec": {
   "display_name": "Python 3 (ipykernel)",
   "language": "python",
   "name": "python3"
  },
  "language_info": {
   "codemirror_mode": {
    "name": "ipython",
    "version": 3
   },
   "file_extension": ".py",
   "mimetype": "text/x-python",
   "name": "python",
   "nbconvert_exporter": "python",
   "pygments_lexer": "ipython3",
   "version": "3.8.5"
  },
  "vscode": {
   "interpreter": {
    "hash": "30f7d091cf8c7d9471a785b40372f89662362ef99e8768f5680562264856f48c"
   }
  }
 },
 "nbformat": 4,
 "nbformat_minor": 2
}
