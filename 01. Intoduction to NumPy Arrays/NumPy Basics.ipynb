{
 "cells": [
  {
   "cell_type": "markdown",
   "id": "together-hamburg",
   "metadata": {},
   "source": [
    "# NumPy N-dimensional Array\n",
    "\n",
    "NumPy is a python library that can be used for scientific and numerical applicaitons and is the tool to use for linear algebra operations.\n",
    "\n",
    "The **ndarray** is the main data structure in NumPy which abbrivates to N-dimentional array. When working with Numpy, data is simply refered as an array. It's a fixed size array in memory that contains data of the same type, such as int or float. \n",
    "\n",
    "Refer the below example to create an NumPy array:"
   ]
  },
  {
   "cell_type": "code",
   "execution_count": 2,
   "id": "civic-cyprus",
   "metadata": {},
   "outputs": [
    {
     "name": "stdout",
     "output_type": "stream",
     "text": [
      "[1. 2. 3.]\n",
      "(3,)\n",
      "float64\n"
     ]
    }
   ],
   "source": [
    "# Import library\n",
    "from numpy import array\n",
    "\n",
    "# create array\n",
    "l = [1.0,2.0,3.0]\n",
    "a = array(l)\n",
    "\n",
    "# Display array\n",
    "print(a)\n",
    "\n",
    "# Display array shape\n",
    "print(a.shape)\n",
    "\n",
    "# Display array data type\n",
    "print(a.dtype)"
   ]
  },
  {
   "cell_type": "markdown",
   "id": "public-tribe",
   "metadata": {},
   "source": [
    "## Functions to Create Array\n",
    "\n",
    "Let's look at few conventional functions for creating fixed-sized array.\n",
    "\n",
    "### Empty\n",
    "The empty() function will create a new array of the specified shape. The argument to the function is an array or tuple that specifies the length of each dimention of the array to create. "
   ]
  },
  {
   "cell_type": "code",
   "execution_count": 5,
   "id": "antique-belarus",
   "metadata": {},
   "outputs": [
    {
     "name": "stdout",
     "output_type": "stream",
     "text": [
      "[[1.14285714 2.28571429 0.57142857]\n",
      " [2.28571429 4.97142857 1.54285714]\n",
      " [0.57142857 1.54285714 0.88571429]]\n"
     ]
    }
   ],
   "source": [
    "# Import empty function\n",
    "from numpy import empty\n",
    "\n",
    "# create an empty array of 3x3\n",
    "a = empty([3,3])\n",
    "print(a)"
   ]
  },
  {
   "cell_type": "markdown",
   "id": "bound-ancient",
   "metadata": {},
   "source": [
    "#### Zeros\n",
    "The zeros() function will create a new array of the specified size with the contents filled with zero values."
   ]
  },
  {
   "cell_type": "code",
   "execution_count": 6,
   "id": "billion-unknown",
   "metadata": {},
   "outputs": [
    {
     "name": "stdout",
     "output_type": "stream",
     "text": [
      "[[0. 0. 0.]\n",
      " [0. 0. 0.]\n",
      " [0. 0. 0.]]\n"
     ]
    }
   ],
   "source": [
    "# Import zeros from numpy\n",
    "from numpy import zeros\n",
    "\n",
    "# create zero array\n",
    "a = zeros([3,3])\n",
    "print(a)"
   ]
  },
  {
   "cell_type": "markdown",
   "id": "accessible-kuwait",
   "metadata": {},
   "source": [
    "#### Ones \n",
    "The ones() function will create a new array of the specified size with the contents filled with one values. The argument to the function is an array or tuple that specifies the length of each dimension of the array to create."
   ]
  },
  {
   "cell_type": "code",
   "execution_count": 7,
   "id": "copyrighted-saturn",
   "metadata": {},
   "outputs": [
    {
     "name": "stdout",
     "output_type": "stream",
     "text": [
      "[[1. 1. 1.]\n",
      " [1. 1. 1.]\n",
      " [1. 1. 1.]]\n"
     ]
    }
   ],
   "source": [
    "# Import ones form numpy\n",
    "from numpy import ones\n",
    "\n",
    "# create ones array\n",
    "a = ones([3,3])\n",
    "print(a)"
   ]
  },
  {
   "cell_type": "code",
   "execution_count": null,
   "id": "juvenile-presentation",
   "metadata": {},
   "outputs": [],
   "source": []
  }
 ],
 "metadata": {
  "kernelspec": {
   "display_name": "Python 3",
   "language": "python",
   "name": "python3"
  },
  "language_info": {
   "codemirror_mode": {
    "name": "ipython",
    "version": 3
   },
   "file_extension": ".py",
   "mimetype": "text/x-python",
   "name": "python",
   "nbconvert_exporter": "python",
   "pygments_lexer": "ipython3",
   "version": "3.9.1"
  }
 },
 "nbformat": 4,
 "nbformat_minor": 5
}
