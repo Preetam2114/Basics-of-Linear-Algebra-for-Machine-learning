{
 "cells": [
  {
   "cell_type": "markdown",
   "id": "billion-marina",
   "metadata": {},
   "source": [
    "# Combining Arrays\n",
    "\n",
    "NumPy provides many functions to create new arrays from existing arrays."
   ]
  },
  {
   "cell_type": "markdown",
   "id": "found-dryer",
   "metadata": {},
   "source": [
    "### Vertical Stack\n",
    "\n",
    "Given two or more array you can stack them vertically using the vstack() function.\n",
    "\n",
    "following is an example for the same:"
   ]
  },
  {
   "cell_type": "code",
   "execution_count": 1,
   "id": "catholic-tension",
   "metadata": {},
   "outputs": [
    {
     "name": "stdout",
     "output_type": "stream",
     "text": [
      "[1 2 3]\n",
      "[4 5 6]\n",
      "[[1 2 3]\n",
      " [4 5 6]]\n",
      "(2, 3)\n"
     ]
    }
   ],
   "source": [
    "# Import the required functions\n",
    "from numpy import array, vstack\n",
    "\n",
    "# create first array\n",
    "a1 = array([1,2,3])\n",
    "print(a1)\n",
    "\n",
    "# create second array\n",
    "a2 = array([4,5,6])\n",
    "print(a2)\n",
    "\n",
    "# vertical stack\n",
    "a3 = vstack((a1,a2))\n",
    "print(a3)\n",
    "print(a3.shape)"
   ]
  },
  {
   "cell_type": "markdown",
   "id": "exclusive-essay",
   "metadata": {},
   "source": [
    "### Horizontal Stack\n",
    "Given two or more array you can stack them horizontally using hstack() function. \n",
    "\n",
    "following is an example for the same:"
   ]
  },
  {
   "cell_type": "code",
   "execution_count": 2,
   "id": "competent-trading",
   "metadata": {},
   "outputs": [
    {
     "name": "stdout",
     "output_type": "stream",
     "text": [
      "[1 2 3]\n",
      "[4 5 6]\n",
      "[1 2 3 4 5 6]\n",
      "(6,)\n"
     ]
    }
   ],
   "source": [
    "# Import the required functions\n",
    "from numpy import array, hstack\n",
    "\n",
    "# create first array\n",
    "a1 = array([1,2,3])\n",
    "print(a1)\n",
    "\n",
    "# create second array\n",
    "a2 = array([4,5,6])\n",
    "print(a2)\n",
    "\n",
    "# vertical stack\n",
    "a3 = hstack((a1,a2))\n",
    "print(a3)\n",
    "print(a3.shape)"
   ]
  },
  {
   "cell_type": "code",
   "execution_count": null,
   "id": "monthly-textbook",
   "metadata": {},
   "outputs": [],
   "source": []
  }
 ],
 "metadata": {
  "kernelspec": {
   "display_name": "Python 3",
   "language": "python",
   "name": "python3"
  },
  "language_info": {
   "codemirror_mode": {
    "name": "ipython",
    "version": 3
   },
   "file_extension": ".py",
   "mimetype": "text/x-python",
   "name": "python",
   "nbconvert_exporter": "python",
   "pygments_lexer": "ipython3",
   "version": "3.9.1"
  }
 },
 "nbformat": 4,
 "nbformat_minor": 5
}
