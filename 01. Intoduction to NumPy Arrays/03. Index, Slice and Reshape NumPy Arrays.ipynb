{
 "cells": [
  {
   "cell_type": "markdown",
   "id": "middle-israeli",
   "metadata": {},
   "source": [
    "# Index, Slice and Reshape NumPy Arrays\n",
    "\n",
    "Machine learning data is represented as arrays. In Python, data is almost universally represented as NumPy arrays. Following are few ways of converting list data into NumPy arrays.\n",
    "\n",
    "## From List to Arrays\n",
    "\n",
    "It's generally recommended to load data from file using Pandas or NumPy functions. Here's lets assume you have loaded the data and is available in Python List. Let's convert the data into NumPy Array."
   ]
  },
  {
   "cell_type": "markdown",
   "id": "intellectual-vinyl",
   "metadata": {},
   "source": [
    "### One-Dimensional List to Array\n",
    "You can convert a one-dimentional list to data to an array by calling the **array()** NumPy function."
   ]
  },
  {
   "cell_type": "code",
   "execution_count": 1,
   "id": "eight-pharmacology",
   "metadata": {},
   "outputs": [
    {
     "name": "stdout",
     "output_type": "stream",
     "text": [
      "[11 22 33 44 55]\n",
      "<class 'numpy.ndarray'>\n"
     ]
    }
   ],
   "source": [
    "# Import the necessary function\n",
    "from numpy import array\n",
    "\n",
    "# list of data\n",
    "data = [11,22,33,44,55]\n",
    "\n",
    "# converting to numpy array\n",
    "data = array(data)\n",
    "print(data)\n",
    "print(type(data))"
   ]
  },
  {
   "cell_type": "markdown",
   "id": "excited-coalition",
   "metadata": {},
   "source": [
    "### Two-Dimensional List of List to Array\n",
    "You can convert the 2D array into 2D-Numpy array by using the **array()** NumPy function."
   ]
  },
  {
   "cell_type": "code",
   "execution_count": 2,
   "id": "international-oracle",
   "metadata": {},
   "outputs": [
    {
     "name": "stdout",
     "output_type": "stream",
     "text": [
      "[[11 22]\n",
      " [33 44]\n",
      " [55 66]]\n",
      "<class 'numpy.ndarray'>\n"
     ]
    }
   ],
   "source": [
    "# Import the necessary function\n",
    "from numpy import array\n",
    "\n",
    "# list of data\n",
    "data = [[11,22],\n",
    "        [33,44],\n",
    "        [55,66]]\n",
    "\n",
    "# converting to numpy array\n",
    "data = array(data)\n",
    "print(data)\n",
    "print(type(data))"
   ]
  },
  {
   "cell_type": "markdown",
   "id": "monthly-complexity",
   "metadata": {},
   "source": [
    "## Array Indexing\n",
    "Once your data is represented using NumPy array, you can access it using indexing.\n",
    "Following are the examples for the same."
   ]
  },
  {
   "cell_type": "markdown",
   "id": "inclusive-shape",
   "metadata": {},
   "source": [
    "### One-Dimensional Indexing\n",
    "Generally, indexing works just like you would expect for python list using the bracket operator **[ ]**"
   ]
  },
  {
   "cell_type": "code",
   "execution_count": 3,
   "id": "tight-verse",
   "metadata": {},
   "outputs": [
    {
     "name": "stdout",
     "output_type": "stream",
     "text": [
      "11\n",
      "22\n"
     ]
    }
   ],
   "source": [
    "# Import the necessary function\n",
    "from numpy import array\n",
    "\n",
    "# list of data\n",
    "data = array([11,22,33,44,55])\n",
    "\n",
    "# index data\n",
    "print(data[0])\n",
    "print(data[1])"
   ]
  },
  {
   "cell_type": "markdown",
   "id": "indonesian-tribute",
   "metadata": {},
   "source": [
    "Specifing a negative integer value in brackets will return values from the terminal end of the array."
   ]
  },
  {
   "cell_type": "code",
   "execution_count": 4,
   "id": "southern-stanford",
   "metadata": {},
   "outputs": [
    {
     "name": "stdout",
     "output_type": "stream",
     "text": [
      "55\n",
      "11\n"
     ]
    }
   ],
   "source": [
    "# index data with -ve int value\n",
    "print(data[-1])\n",
    "print(data[-5])"
   ]
  },
  {
   "cell_type": "markdown",
   "id": "attached-samba",
   "metadata": {},
   "source": [
    "### Two-Dimensional Indexing \n",
    "Indexing in two-dimensional data is similar to indexing one-dimentional data, except that a comma is used to separate the index for each dimension represented as **[int1,int2]**"
   ]
  },
  {
   "cell_type": "code",
   "execution_count": 5,
   "id": "global-graham",
   "metadata": {},
   "outputs": [
    {
     "name": "stdout",
     "output_type": "stream",
     "text": [
      "11\n",
      "44\n"
     ]
    }
   ],
   "source": [
    "# Import the necessary function\n",
    "from numpy import array\n",
    "\n",
    "# define array\n",
    "data = array([[11,22],\n",
    "              [33,44],\n",
    "              [55,66]])\n",
    "\n",
    "# index data\n",
    "print(data[0,0])\n",
    "print(data[1,1])"
   ]
  },
  {
   "cell_type": "markdown",
   "id": "inappropriate-intervention",
   "metadata": {},
   "source": [
    "You can also access the entire row by just mentioning the first integer value and leaving the second dimension blank."
   ]
  },
  {
   "cell_type": "code",
   "execution_count": 7,
   "id": "trained-address",
   "metadata": {},
   "outputs": [
    {
     "name": "stdout",
     "output_type": "stream",
     "text": [
      "[11 22]\n",
      "[33 44]\n"
     ]
    }
   ],
   "source": [
    "# index data\n",
    "print(data[0,])\n",
    "print(data[1,])"
   ]
  },
  {
   "cell_type": "markdown",
   "id": "transsexual-feeling",
   "metadata": {},
   "source": [
    "## Array Slicing\n",
    "Structures like lists and arrays can be sliced which means a specific subsequence of the data can be indexed and retrieved. This is useful for machine learning when specifying input variables and output variables, or splitting training rows from testing rows. Slicing is specified with a colon operator **:** and is used as **[idx1:idx2]**"
   ]
  },
  {
   "cell_type": "markdown",
   "id": "protective-premiere",
   "metadata": {},
   "source": [
    "### One-Dimensional Slicing "
   ]
  },
  {
   "cell_type": "code",
   "execution_count": 12,
   "id": "native-lottery",
   "metadata": {},
   "outputs": [
    {
     "name": "stdout",
     "output_type": "stream",
     "text": [
      "[22 33]\n"
     ]
    }
   ],
   "source": [
    "# Import the necessary function\n",
    "from numpy import array\n",
    "\n",
    "# define array\n",
    "data = array([11,22,33,44,55])\n",
    "\n",
    "# slice the data\n",
    "print(data[1:3])"
   ]
  },
  {
   "cell_type": "markdown",
   "id": "forced-mattress",
   "metadata": {},
   "source": [
    "When negative index are mentioned for slicing the slicing starts from terminal end."
   ]
  },
  {
   "cell_type": "code",
   "execution_count": 16,
   "id": "referenced-hormone",
   "metadata": {},
   "outputs": [
    {
     "name": "stdout",
     "output_type": "stream",
     "text": [
      "[22 33 44]\n"
     ]
    }
   ],
   "source": [
    "# slice the data\n",
    "print(data[-4:-1])"
   ]
  },
  {
   "cell_type": "markdown",
   "id": "color-monthly",
   "metadata": {},
   "source": [
    "### Two-Dimensional Slicing\n",
    "In Machine learning the 2D slicing is generally used for following \n",
    "\n",
    "#### Split Input and Output Features\n",
    "Spliting data into Input variables(x) and Output variables(y). We can do this by slicing all rows and all columns up to, but before the last column then seperatly indexing the last column for the input features we can select all rows and columns except the last one by specifying : for in the rows index, and :-1 in the column index.\n",
    "\n",
    "X = [:,:-1]\n",
    "\n",
    "For the output column we can select all rows again using : and index just the last column by specifying the -1 index.\n",
    "\n",
    "Y = [:,-1]"
   ]
  },
  {
   "cell_type": "code",
   "execution_count": 2,
   "id": "detailed-sculpture",
   "metadata": {},
   "outputs": [
    {
     "name": "stdout",
     "output_type": "stream",
     "text": [
      "[[11 22]\n",
      " [44 55]\n",
      " [77 88]]\n",
      "[33 66 99]\n"
     ]
    }
   ],
   "source": [
    "# Import necessary libraries\n",
    "from numpy import array\n",
    "\n",
    "# define array\n",
    "data = array([\n",
    "    [11,22,33],\n",
    "    [44,55,66],\n",
    "    [77,88,99]\n",
    "]\n",
    ")\n",
    "\n",
    "# Seperate data\n",
    "X,Y = data[:,:-1],data[:,-1]\n",
    "\n",
    "print(X)\n",
    "print(Y)"
   ]
  },
  {
   "cell_type": "markdown",
   "id": "trying-petite",
   "metadata": {},
   "source": [
    "#### Split Train and Test Rows\n",
    "This includes slicing all columns by specifying : in the second dimension index. The training dataset would be all rows from the beginning to the split point.\n",
    "\n",
    "train = data[:split,:]\n",
    "test  = data[split:,:]"
   ]
  },
  {
   "cell_type": "code",
   "execution_count": 4,
   "id": "comic-residence",
   "metadata": {},
   "outputs": [
    {
     "name": "stdout",
     "output_type": "stream",
     "text": [
      "[[11 22 33]\n",
      " [44 55 66]]\n",
      "[[77 88 99]]\n"
     ]
    }
   ],
   "source": [
    "# Import necessary libraries\n",
    "from numpy import array\n",
    "\n",
    "# define array\n",
    "data = array([\n",
    "    [11,22,33],\n",
    "    [44,55,66],\n",
    "    [77,88,99]\n",
    "]\n",
    ")\n",
    "\n",
    "# Seperate data\n",
    "split = 2\n",
    "train,test = data[:split,:],data[split:,:]\n",
    "\n",
    "print(train)\n",
    "print(test)"
   ]
  },
  {
   "cell_type": "markdown",
   "id": "exempt-shirt",
   "metadata": {},
   "source": [
    "## Array Reshaping\n",
    "\n",
    "### Data Shape\n",
    "\n",
    "NumPy arrays have a shape attribute that returns a tuple of length of each dimension of the array."
   ]
  },
  {
   "cell_type": "code",
   "execution_count": 5,
   "id": "sporting-trauma",
   "metadata": {},
   "outputs": [
    {
     "name": "stdout",
     "output_type": "stream",
     "text": [
      "(5,)\n"
     ]
    }
   ],
   "source": [
    "# Import necessary libraries\n",
    "from numpy import array\n",
    "\n",
    "# define array\n",
    "data = array([11,22,33,44,55])\n",
    "print(data.shape)"
   ]
  },
  {
   "cell_type": "markdown",
   "id": "assumed-macedonia",
   "metadata": {},
   "source": [
    "Tuple of length 2 is returned for a 2D-array."
   ]
  },
  {
   "cell_type": "code",
   "execution_count": 6,
   "id": "inclusive-scholarship",
   "metadata": {},
   "outputs": [
    {
     "name": "stdout",
     "output_type": "stream",
     "text": [
      "(3, 2)\n"
     ]
    }
   ],
   "source": [
    "# Import necessary libraries\n",
    "from numpy import array\n",
    "\n",
    "# define array\n",
    "data = array([[11,22],\n",
    "              [33,44],\n",
    "              [55,66]])\n",
    "print(data.shape)"
   ]
  },
  {
   "cell_type": "markdown",
   "id": "disciplinary-skating",
   "metadata": {},
   "source": [
    "The elements of tuple can be accessed just like an array where the 0th index give the number of rows and the 1st index gives the number of columns."
   ]
  },
  {
   "cell_type": "code",
   "execution_count": 7,
   "id": "united-longitude",
   "metadata": {},
   "outputs": [
    {
     "name": "stdout",
     "output_type": "stream",
     "text": [
      "Rows: 3\n",
      "Cols: 2\n"
     ]
    }
   ],
   "source": [
    "# Import necessary libraries\n",
    "from numpy import array\n",
    "\n",
    "# list of data\n",
    "data = array([[11,22],\n",
    "              [33,44],\n",
    "              [55,66]])\n",
    "print('Rows: %d'%data.shape[0])\n",
    "print('Cols: %d'%data.shape[1])"
   ]
  },
  {
   "cell_type": "markdown",
   "id": "worldwide-spanking",
   "metadata": {},
   "source": [
    "### Reshape 1D to 2D Array\n",
    "Numpy provides the reshape() function on the NumPy array object that can be used to reshape the data. The reshape function takes a single argument that specifies the new shape of the array.\n",
    "\n",
    "In case of reshaping 1D array into 2D array with one column the tuple would be the shape of array as the first dimension (data.shape[0]) and 1 for second dimension"
   ]
  },
  {
   "cell_type": "code",
   "execution_count": 8,
   "id": "nearby-eligibility",
   "metadata": {},
   "outputs": [
    {
     "name": "stdout",
     "output_type": "stream",
     "text": [
      "(5,)\n",
      "(5, 1)\n"
     ]
    }
   ],
   "source": [
    "# Import necessary libraries\n",
    "from numpy import array\n",
    "\n",
    "# define array\n",
    "data = array([11,22,33,44,55])\n",
    "print(data.shape)\n",
    "\n",
    "# reshape\n",
    "data = data.reshape((data.shape[0],1))\n",
    "print(data.shape)"
   ]
  },
  {
   "cell_type": "markdown",
   "id": "consecutive-facing",
   "metadata": {},
   "source": [
    "### Reshape 2D to 3D Array\n",
    "It is a common need to reshape 2D data where each row represents a sequence into 3D array for algorithms that expects multiple samples of one or more time steps and features. A common example is **LSTM recurrent neural network model** in Keras. \n",
    "\n",
    "The reshape function can be used directly specifying the new dimensions. We can use the sizes in the shape attribute on the array to specify the number of sample (rows) and cloumns (time step) and fix the number of features at 1. \n",
    "\n",
    "data.reshape((data.shape[0],data.shape[1],1))"
   ]
  },
  {
   "cell_type": "code",
   "execution_count": 12,
   "id": "acquired-bernard",
   "metadata": {},
   "outputs": [
    {
     "name": "stdout",
     "output_type": "stream",
     "text": [
      "(3, 2)\n",
      "(3, 2, 1)\n"
     ]
    }
   ],
   "source": [
    "# Import necessary libraries\n",
    "from numpy import array\n",
    "\n",
    "# define array\n",
    "data = array([[11,22],\n",
    "             [33,44],\n",
    "             [55,66]])\n",
    "print(data.shape)\n",
    "\n",
    "# reshape\n",
    "data = data.reshape((data.shape[0],data.shape[1],1))\n",
    "print(data.shape)"
   ]
  },
  {
   "cell_type": "code",
   "execution_count": null,
   "id": "black-invention",
   "metadata": {},
   "outputs": [],
   "source": []
  }
 ],
 "metadata": {
  "kernelspec": {
   "display_name": "Python 3",
   "language": "python",
   "name": "python3"
  },
  "language_info": {
   "codemirror_mode": {
    "name": "ipython",
    "version": 3
   },
   "file_extension": ".py",
   "mimetype": "text/x-python",
   "name": "python",
   "nbconvert_exporter": "python",
   "pygments_lexer": "ipython3",
   "version": "3.9.1"
  }
 },
 "nbformat": 4,
 "nbformat_minor": 5
}
